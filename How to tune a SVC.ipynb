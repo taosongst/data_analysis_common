{
 "cells": [
  {
   "cell_type": "code",
   "execution_count": 705,
   "id": "56b894f9",
   "metadata": {},
   "outputs": [],
   "source": [
    "from imblearn.pipeline import make_pipeline\n",
    "from sklearn.svm import LinearSVC\n",
    "import pandas as pd \n",
    "import numpy as np \n",
    "from sklearn.metrics import roc_auc_score\n",
    "from sklearn.metrics import f1_score"
   ]
  },
  {
   "cell_type": "code",
   "execution_count": 706,
   "id": "b9bbeddc",
   "metadata": {},
   "outputs": [],
   "source": [
    "train = pd.read_csv(\"train_data.csv\")"
   ]
  },
  {
   "cell_type": "code",
   "execution_count": 707,
   "id": "2731f8e8",
   "metadata": {},
   "outputs": [],
   "source": [
    "def clip_df(df, factor=2):\n",
    "    for col in df.columns.values[:-1]:\n",
    "        quantile25 = df[col].quantile(0.25)\n",
    "        quantile75 = df[col].quantile(0.75)\n",
    "        d = (quantile75-quantile25)*factor\n",
    "        df[col] = np.clip(df[col], quantile25-d, quantile75+d)\n",
    "    return df"
   ]
  },
  {
   "cell_type": "code",
   "execution_count": 708,
   "id": "402ed543",
   "metadata": {},
   "outputs": [],
   "source": [
    "def normalize_df(df):\n",
    "    for col in df.columns.values[:-1]:\n",
    "        mean = df[col].mean()\n",
    "        std = df[col].std()\n",
    "        df[col] = (df[col]-mean)/std\n",
    "    return df"
   ]
  },
  {
   "cell_type": "code",
   "execution_count": 709,
   "id": "edf718c9",
   "metadata": {},
   "outputs": [],
   "source": [
    "train = clip_df(train)\n",
    "train = normalize_df(train)"
   ]
  },
  {
   "cell_type": "code",
   "execution_count": 710,
   "id": "560c8144",
   "metadata": {},
   "outputs": [
    {
     "data": {
      "text/plain": [
       "(7500, 301)"
      ]
     },
     "execution_count": 710,
     "metadata": {},
     "output_type": "execute_result"
    }
   ],
   "source": [
    "train.shape"
   ]
  },
  {
   "cell_type": "code",
   "execution_count": 711,
   "id": "4571cbce",
   "metadata": {},
   "outputs": [
    {
     "data": {
      "text/html": [
       "<div>\n",
       "<style scoped>\n",
       "    .dataframe tbody tr th:only-of-type {\n",
       "        vertical-align: middle;\n",
       "    }\n",
       "\n",
       "    .dataframe tbody tr th {\n",
       "        vertical-align: top;\n",
       "    }\n",
       "\n",
       "    .dataframe thead th {\n",
       "        text-align: right;\n",
       "    }\n",
       "</style>\n",
       "<table border=\"1\" class=\"dataframe\">\n",
       "  <thead>\n",
       "    <tr style=\"text-align: right;\">\n",
       "      <th></th>\n",
       "      <th>0</th>\n",
       "      <th>1</th>\n",
       "      <th>2</th>\n",
       "      <th>3</th>\n",
       "      <th>4</th>\n",
       "      <th>5</th>\n",
       "      <th>6</th>\n",
       "      <th>7</th>\n",
       "      <th>8</th>\n",
       "      <th>9</th>\n",
       "      <th>...</th>\n",
       "      <th>291</th>\n",
       "      <th>292</th>\n",
       "      <th>293</th>\n",
       "      <th>294</th>\n",
       "      <th>295</th>\n",
       "      <th>296</th>\n",
       "      <th>297</th>\n",
       "      <th>298</th>\n",
       "      <th>299</th>\n",
       "      <th>target</th>\n",
       "    </tr>\n",
       "  </thead>\n",
       "  <tbody>\n",
       "    <tr>\n",
       "      <th>0.00</th>\n",
       "      <td>-3.348112</td>\n",
       "      <td>-3.374773</td>\n",
       "      <td>-3.382031</td>\n",
       "      <td>-3.393624</td>\n",
       "      <td>-3.392549</td>\n",
       "      <td>-3.375490</td>\n",
       "      <td>-3.348320</td>\n",
       "      <td>-3.413993</td>\n",
       "      <td>-3.389158</td>\n",
       "      <td>-3.387180</td>\n",
       "      <td>...</td>\n",
       "      <td>-3.353443</td>\n",
       "      <td>-3.354548</td>\n",
       "      <td>-3.358941</td>\n",
       "      <td>-3.347704</td>\n",
       "      <td>-3.363271</td>\n",
       "      <td>-3.388695</td>\n",
       "      <td>-3.320075</td>\n",
       "      <td>-3.263330</td>\n",
       "      <td>-3.390626</td>\n",
       "      <td>0.0</td>\n",
       "    </tr>\n",
       "    <tr>\n",
       "      <th>0.05</th>\n",
       "      <td>-1.655218</td>\n",
       "      <td>-1.652724</td>\n",
       "      <td>-1.634289</td>\n",
       "      <td>-1.644554</td>\n",
       "      <td>-1.631531</td>\n",
       "      <td>-1.668120</td>\n",
       "      <td>-1.660318</td>\n",
       "      <td>-1.640756</td>\n",
       "      <td>-1.624919</td>\n",
       "      <td>-1.663710</td>\n",
       "      <td>...</td>\n",
       "      <td>-1.667666</td>\n",
       "      <td>-1.640746</td>\n",
       "      <td>-1.658060</td>\n",
       "      <td>-1.661641</td>\n",
       "      <td>-1.672341</td>\n",
       "      <td>-1.649890</td>\n",
       "      <td>-1.671809</td>\n",
       "      <td>-1.664678</td>\n",
       "      <td>-1.648658</td>\n",
       "      <td>0.0</td>\n",
       "    </tr>\n",
       "    <tr>\n",
       "      <th>0.10</th>\n",
       "      <td>-1.274972</td>\n",
       "      <td>-1.288542</td>\n",
       "      <td>-1.279643</td>\n",
       "      <td>-1.286991</td>\n",
       "      <td>-1.285936</td>\n",
       "      <td>-1.299514</td>\n",
       "      <td>-1.282394</td>\n",
       "      <td>-1.284627</td>\n",
       "      <td>-1.277103</td>\n",
       "      <td>-1.298681</td>\n",
       "      <td>...</td>\n",
       "      <td>-1.280076</td>\n",
       "      <td>-1.275981</td>\n",
       "      <td>-1.297865</td>\n",
       "      <td>-1.281816</td>\n",
       "      <td>-1.272426</td>\n",
       "      <td>-1.282155</td>\n",
       "      <td>-1.287433</td>\n",
       "      <td>-1.287924</td>\n",
       "      <td>-1.287983</td>\n",
       "      <td>0.0</td>\n",
       "    </tr>\n",
       "  </tbody>\n",
       "</table>\n",
       "<p>3 rows × 301 columns</p>\n",
       "</div>"
      ],
      "text/plain": [
       "             0         1         2         3         4         5         6  \\\n",
       "0.00 -3.348112 -3.374773 -3.382031 -3.393624 -3.392549 -3.375490 -3.348320   \n",
       "0.05 -1.655218 -1.652724 -1.634289 -1.644554 -1.631531 -1.668120 -1.660318   \n",
       "0.10 -1.274972 -1.288542 -1.279643 -1.286991 -1.285936 -1.299514 -1.282394   \n",
       "\n",
       "             7         8         9  ...       291       292       293  \\\n",
       "0.00 -3.413993 -3.389158 -3.387180  ... -3.353443 -3.354548 -3.358941   \n",
       "0.05 -1.640756 -1.624919 -1.663710  ... -1.667666 -1.640746 -1.658060   \n",
       "0.10 -1.284627 -1.277103 -1.298681  ... -1.280076 -1.275981 -1.297865   \n",
       "\n",
       "           294       295       296       297       298       299  target  \n",
       "0.00 -3.347704 -3.363271 -3.388695 -3.320075 -3.263330 -3.390626     0.0  \n",
       "0.05 -1.661641 -1.672341 -1.649890 -1.671809 -1.664678 -1.648658     0.0  \n",
       "0.10 -1.281816 -1.272426 -1.282155 -1.287433 -1.287924 -1.287983     0.0  \n",
       "\n",
       "[3 rows x 301 columns]"
      ]
     },
     "execution_count": 711,
     "metadata": {},
     "output_type": "execute_result"
    }
   ],
   "source": [
    "train.quantile([i/20 for i in range(21)]).head(3)"
   ]
  },
  {
   "cell_type": "markdown",
   "id": "0df81b27",
   "metadata": {},
   "source": [
    "# Benchmark"
   ]
  },
  {
   "cell_type": "code",
   "execution_count": 712,
   "id": "9f4a96db",
   "metadata": {},
   "outputs": [],
   "source": [
    "from sklearn.model_selection import train_test_split"
   ]
  },
  {
   "cell_type": "code",
   "execution_count": 713,
   "id": "6ef159d0",
   "metadata": {},
   "outputs": [
    {
     "data": {
      "text/plain": [
       "((7500, 300), (7500,))"
      ]
     },
     "execution_count": 713,
     "metadata": {},
     "output_type": "execute_result"
    }
   ],
   "source": [
    "feature_cols = train.columns.values[:-1]\n",
    "target_col = train.columns.values[-1]\n",
    "X = train.loc[:, feature_cols]\n",
    "Y = train.loc[:, target_col]\n",
    "X.shape, Y.shape"
   ]
  },
  {
   "cell_type": "code",
   "execution_count": 714,
   "id": "b78de60f",
   "metadata": {},
   "outputs": [
    {
     "data": {
      "text/plain": [
       "0    6879\n",
       "1     621\n",
       "Name: target, dtype: int64"
      ]
     },
     "execution_count": 714,
     "metadata": {},
     "output_type": "execute_result"
    }
   ],
   "source": [
    "Y.value_counts()"
   ]
  },
  {
   "cell_type": "code",
   "execution_count": 715,
   "id": "c67379d1",
   "metadata": {},
   "outputs": [
    {
     "data": {
      "text/plain": [
       "((6000, 300), (1500, 300), (6000,), (1500,))"
      ]
     },
     "execution_count": 715,
     "metadata": {},
     "output_type": "execute_result"
    }
   ],
   "source": [
    "#test data\n",
    "X_train, X_test, Y_train, Y_test = train_test_split(X, Y, stratify=Y, test_size=0.2)\n",
    "X_train.shape, X_test.shape, Y_train.shape, Y_test.shape"
   ]
  },
  {
   "cell_type": "code",
   "execution_count": 716,
   "id": "3cbf3997",
   "metadata": {},
   "outputs": [
    {
     "data": {
      "text/plain": [
       "0    5503\n",
       "1     497\n",
       "Name: target, dtype: int64"
      ]
     },
     "execution_count": 716,
     "metadata": {},
     "output_type": "execute_result"
    }
   ],
   "source": [
    "Y_train.value_counts()"
   ]
  },
  {
   "cell_type": "code",
   "execution_count": 717,
   "id": "c64f3e97",
   "metadata": {},
   "outputs": [
    {
     "name": "stderr",
     "output_type": "stream",
     "text": [
      "C:\\Users\\tao\\Anaconda3\\lib\\site-packages\\sklearn\\svm\\_base.py:985: ConvergenceWarning: Liblinear failed to converge, increase the number of iterations.\n",
      "  warnings.warn(\"Liblinear failed to converge, increase \"\n"
     ]
    },
    {
     "data": {
      "text/plain": [
       "(0.6579903147699758, 'f1', 0.30769230769230765)"
      ]
     },
     "execution_count": 717,
     "metadata": {},
     "output_type": "execute_result"
    }
   ],
   "source": [
    "model0 = LinearSVC(random_state=42, tol = 0.1, C=0.1, class_weight={0:10, 1:50})\n",
    "model0.fit(X_train,Y_train)\n",
    "roc_auc_score(model0.predict(X_test), Y_test), 'f1', f1_score(model0.predict(X_test), Y_test)"
   ]
  },
  {
   "cell_type": "markdown",
   "id": "cf693b24",
   "metadata": {},
   "source": [
    "## confusion matrix"
   ]
  },
  {
   "cell_type": "code",
   "execution_count": 718,
   "id": "999a323a",
   "metadata": {},
   "outputs": [
    {
     "data": {
      "text/plain": [
       "(array([[1324,   92],\n",
       "        [  52,   32]], dtype=int64),\n",
       " array([[5312,  322],\n",
       "        [ 191,  175]], dtype=int64))"
      ]
     },
     "execution_count": 718,
     "metadata": {},
     "output_type": "execute_result"
    }
   ],
   "source": [
    "import sklearn\n",
    "matrix = sklearn.metrics.confusion_matrix\n",
    "matrix(model0.predict(X_test), Y_test), matrix(model0.predict(X_train), Y_train)"
   ]
  },
  {
   "cell_type": "markdown",
   "id": "0a334e40",
   "metadata": {},
   "source": [
    "# features selection"
   ]
  },
  {
   "cell_type": "code",
   "execution_count": 719,
   "id": "be7e7e34",
   "metadata": {},
   "outputs": [
    {
     "data": {
      "text/plain": [
       "array([-0.02736833, -0.02336432,  0.00289404])"
      ]
     },
     "execution_count": 719,
     "metadata": {},
     "output_type": "execute_result"
    }
   ],
   "source": [
    "model0.coef_[0][:3]"
   ]
  },
  {
   "cell_type": "code",
   "execution_count": 720,
   "id": "87b29903",
   "metadata": {},
   "outputs": [],
   "source": [
    "select_num = 150\n",
    "arr = model0.coef_[0]\n",
    "selected_ind = [ind for coeff, ind in sorted([ (abs(arr[i]), i) for i in range(len(arr))])[-select_num:]]"
   ]
  },
  {
   "cell_type": "code",
   "execution_count": 761,
   "id": "f29630f8",
   "metadata": {},
   "outputs": [],
   "source": [
    "selected_features = feature_cols[selected_ind]"
   ]
  },
  {
   "cell_type": "code",
   "execution_count": 722,
   "id": "948d51b9",
   "metadata": {},
   "outputs": [
    {
     "name": "stdout",
     "output_type": "stream",
     "text": [
      "(7500, 150) (7500,)\n"
     ]
    }
   ],
   "source": [
    "X_s = train.loc[:, selected_features]\n",
    "Y_s = train.loc[:, 'target']\n",
    "print(X_s.shape, Y_s.shape)\n",
    "X_train_s, X_test_s, Y_train_s, Y_test_s = train_test_split(X_s, Y_s, stratify=Y_s, test_size=0.2)"
   ]
  },
  {
   "cell_type": "code",
   "execution_count": 723,
   "id": "46186c8f",
   "metadata": {},
   "outputs": [
    {
     "name": "stderr",
     "output_type": "stream",
     "text": [
      "C:\\Users\\tao\\Anaconda3\\lib\\site-packages\\sklearn\\svm\\_base.py:985: ConvergenceWarning: Liblinear failed to converge, increase the number of iterations.\n",
      "  warnings.warn(\"Liblinear failed to converge, increase \"\n"
     ]
    },
    {
     "data": {
      "text/plain": [
       "(0.6614126880313931, 'f1', 0.35897435897435903)"
      ]
     },
     "execution_count": 723,
     "metadata": {},
     "output_type": "execute_result"
    }
   ],
   "source": [
    "# model2 = LinearSVC(random_state=42, class_weight={0:1, 1:5})\n",
    "model2 = LinearSVC(random_state=42, tol=0.1, C=0.1, class_weight={0:10, 1:50})\n",
    "model2.fit(X_train_s,Y_train_s)\n",
    "roc_auc_score(model2.predict(X_test_s), Y_test_s), 'f1', f1_score(model2.predict(X_test_s), Y_test_s)"
   ]
  },
  {
   "cell_type": "code",
   "execution_count": 724,
   "id": "69a13921",
   "metadata": {},
   "outputs": [
    {
     "data": {
      "text/plain": [
       "(array([[1308,   82],\n",
       "        [  68,   42]], dtype=int64),\n",
       " array([[5276,  318],\n",
       "        [ 227,  179]], dtype=int64))"
      ]
     },
     "execution_count": 724,
     "metadata": {},
     "output_type": "execute_result"
    }
   ],
   "source": [
    "matrix = sklearn.metrics.confusion_matrix\n",
    "matrix(model2.predict(X_test_s), Y_test_s), matrix(model2.predict(X_train_s), Y_train_s)"
   ]
  },
  {
   "cell_type": "markdown",
   "id": "76b3417a",
   "metadata": {},
   "source": [
    "# data augmentation"
   ]
  },
  {
   "cell_type": "code",
   "execution_count": 752,
   "id": "2340ac78",
   "metadata": {},
   "outputs": [],
   "source": [
    "pred = model0.predict(X_train)"
   ]
  },
  {
   "cell_type": "code",
   "execution_count": 753,
   "id": "a7a50b29",
   "metadata": {},
   "outputs": [],
   "source": [
    "false_pos_ind = [i for i in range(len(Y_train)) if pred[i] == 0 and Y_train.values[i]==1]"
   ]
  },
  {
   "cell_type": "code",
   "execution_count": 754,
   "id": "fc82bef0",
   "metadata": {},
   "outputs": [
    {
     "data": {
      "text/plain": [
       "-0.34199387604134046"
      ]
     },
     "execution_count": 754,
     "metadata": {},
     "output_type": "execute_result"
    }
   ],
   "source": [
    "aug_boundary = pd.Series(model0.decision_function(X)[false_pos_ind]).quantile(0.80)\n",
    "aug_boundary"
   ]
  },
  {
   "cell_type": "code",
   "execution_count": 755,
   "id": "5ed27cca",
   "metadata": {},
   "outputs": [],
   "source": [
    "aug_index = [ind for ind in false_pos_ind if model0.decision_function(X)[ind] > aug_boundary ]"
   ]
  },
  {
   "cell_type": "code",
   "execution_count": 756,
   "id": "a02bb8a0",
   "metadata": {},
   "outputs": [
    {
     "data": {
      "text/plain": [
       "((65, 300), (65,))"
      ]
     },
     "execution_count": 756,
     "metadata": {},
     "output_type": "execute_result"
    }
   ],
   "source": [
    "X_false_pos = np.array(X_train)[aug_index]\n",
    "Y_false_pos = np.array(Y_train)[aug_index]\n",
    "X_false_pos.shape, Y_false_pos.shape "
   ]
  },
  {
   "cell_type": "code",
   "execution_count": 757,
   "id": "e2cffe24",
   "metadata": {},
   "outputs": [],
   "source": [
    "X_aug = np.concatenate([X_train, X_false_pos])\n",
    "Y_aug = np.concatenate([Y_train, Y_false_pos])"
   ]
  },
  {
   "cell_type": "code",
   "execution_count": 758,
   "id": "878f24a2",
   "metadata": {},
   "outputs": [
    {
     "data": {
      "text/plain": [
       "(6065, 300)"
      ]
     },
     "execution_count": 758,
     "metadata": {},
     "output_type": "execute_result"
    }
   ],
   "source": [
    "X_aug.shape"
   ]
  },
  {
   "cell_type": "code",
   "execution_count": 759,
   "id": "813be138",
   "metadata": {},
   "outputs": [
    {
     "name": "stderr",
     "output_type": "stream",
     "text": [
      "C:\\Users\\tao\\Anaconda3\\lib\\site-packages\\sklearn\\svm\\_base.py:985: ConvergenceWarning: Liblinear failed to converge, increase the number of iterations.\n",
      "  warnings.warn(\"Liblinear failed to converge, increase \"\n"
     ]
    },
    {
     "data": {
      "text/plain": [
       "(0.6285590856027279, 'f1', 0.30042918454935624)"
      ]
     },
     "execution_count": 759,
     "metadata": {},
     "output_type": "execute_result"
    }
   ],
   "source": [
    "model_aug = LinearSVC(random_state=42, tol=0.1, C=0.1, class_weight={0:10, 1:50})\n",
    "model_aug.fit(X_aug, Y_aug)\n",
    "roc_auc_score(model_aug.predict(X_test), Y_test),  'f1', f1_score(model_aug.predict(X_test), Y_test)"
   ]
  },
  {
   "cell_type": "code",
   "execution_count": 760,
   "id": "695ea2f5",
   "metadata": {},
   "outputs": [
    {
     "data": {
      "text/plain": [
       "(array([[1302,   89],\n",
       "        [  74,   35]], dtype=int64),\n",
       " array([[5220,  303],\n",
       "        [ 283,  194]], dtype=int64))"
      ]
     },
     "execution_count": 760,
     "metadata": {},
     "output_type": "execute_result"
    }
   ],
   "source": [
    "import sklearn\n",
    "matrix = sklearn.metrics.confusion_matrix\n",
    "matrix(model_aug.predict(X_test), Y_test), matrix(model_aug.predict(X_train), Y_train)"
   ]
  },
  {
   "cell_type": "markdown",
   "id": "8dbec248",
   "metadata": {},
   "source": [
    "# GridSearchCV"
   ]
  },
  {
   "cell_type": "code",
   "execution_count": 750,
   "id": "18d338d5",
   "metadata": {},
   "outputs": [
    {
     "data": {
      "text/plain": [
       "['mean_fit_time',\n",
       " 'mean_score_time',\n",
       " 'mean_test_score',\n",
       " 'param_C',\n",
       " 'param_kernel',\n",
       " 'params',\n",
       " 'rank_test_score',\n",
       " 'split0_test_score',\n",
       " 'split1_test_score',\n",
       " 'split2_test_score',\n",
       " 'split3_test_score',\n",
       " 'split4_test_score',\n",
       " 'std_fit_time',\n",
       " 'std_score_time',\n",
       " 'std_test_score']"
      ]
     },
     "execution_count": 750,
     "metadata": {},
     "output_type": "execute_result"
    }
   ],
   "source": [
    "from sklearn import svm, datasets\n",
    "from sklearn.model_selection import GridSearchCV\n",
    "iris = datasets.load_iris()\n",
    "parameters = {'kernel':('linear', 'rbf'), 'C':[i for i in range(1,10)]}\n",
    "svc = svm.SVC()\n",
    "clf = GridSearchCV(svc, parameters)\n",
    "clf.fit(iris.data, iris.target)\n",
    "sorted(clf.cv_results_)"
   ]
  },
  {
   "cell_type": "code",
   "execution_count": 751,
   "id": "7b9cebd2",
   "metadata": {},
   "outputs": [
    {
     "data": {
      "text/plain": [
       "{'C': 5, 'kernel': 'rbf'}"
      ]
     },
     "execution_count": 751,
     "metadata": {},
     "output_type": "execute_result"
    }
   ],
   "source": [
    "clf.best_params_"
   ]
  },
  {
   "cell_type": "markdown",
   "id": "b40f27b0",
   "metadata": {},
   "source": [
    "# test make_pipeline"
   ]
  },
  {
   "cell_type": "code",
   "execution_count": 618,
   "id": "fe682b73",
   "metadata": {},
   "outputs": [
    {
     "name": "stdout",
     "output_type": "stream",
     "text": [
      "Automatically created module for IPython interactive environment\n",
      "Training target statistics: Counter({1: 38, 2: 38, 0: 17})\n",
      "Testing target statistics: Counter({1: 12, 2: 12, 0: 8})\n",
      "                   pre       rec       spe        f1       geo       iba       sup\n",
      "\n",
      "          0       1.00      1.00      1.00      1.00      1.00      1.00         8\n",
      "          1       0.88      0.58      0.95      0.70      0.74      0.53        12\n",
      "          2       0.69      0.92      0.75      0.79      0.83      0.70        12\n",
      "\n",
      "avg / total       0.84      0.81      0.89      0.81      0.84      0.71        32\n",
      "\n"
     ]
    }
   ],
   "source": [
    "\n",
    "from collections import Counter\n",
    "\n",
    "from sklearn.datasets import load_iris\n",
    "from sklearn.linear_model import LogisticRegression\n",
    "from sklearn.model_selection import train_test_split\n",
    "from sklearn.preprocessing import StandardScaler\n",
    "\n",
    "from imblearn.datasets import make_imbalance\n",
    "from imblearn.under_sampling import NearMiss\n",
    "from imblearn.pipeline import make_pipeline\n",
    "from imblearn.metrics import classification_report_imbalanced\n",
    "\n",
    "print(__doc__)\n",
    "\n",
    "RANDOM_STATE = 42\n",
    "\n",
    "# Create a folder to fetch the dataset\n",
    "iris = load_iris()\n",
    "X, y = make_imbalance(\n",
    "    iris.data,\n",
    "    iris.target,\n",
    "    sampling_strategy={0: 25, 1: 50, 2: 50},\n",
    "    random_state=RANDOM_STATE,\n",
    ")\n",
    "\n",
    "X_train, X_test, y_train, y_test = train_test_split(X, y, random_state=RANDOM_STATE)\n",
    "\n",
    "print(f\"Training target statistics: {Counter(y_train)}\")\n",
    "print(f\"Testing target statistics: {Counter(y_test)}\")\n",
    "\n",
    "# Create a pipeline\n",
    "pipeline = make_pipeline(\n",
    "    NearMiss(version=2), StandardScaler(), LogisticRegression(random_state=RANDOM_STATE)\n",
    ")\n",
    "pipeline.fit(X_train, y_train)\n",
    "\n",
    "# Classify and report the results\n",
    "print(classification_report_imbalanced(y_test, pipeline.predict(X_test)))"
   ]
  }
 ],
 "metadata": {
  "kernelspec": {
   "display_name": "Python 3 (ipykernel)",
   "language": "python",
   "name": "python3"
  },
  "language_info": {
   "codemirror_mode": {
    "name": "ipython",
    "version": 3
   },
   "file_extension": ".py",
   "mimetype": "text/x-python",
   "name": "python",
   "nbconvert_exporter": "python",
   "pygments_lexer": "ipython3",
   "version": "3.8.8"
  },
  "toc": {
   "base_numbering": 1,
   "nav_menu": {},
   "number_sections": true,
   "sideBar": true,
   "skip_h1_title": false,
   "title_cell": "Table of Contents",
   "title_sidebar": "Contents",
   "toc_cell": false,
   "toc_position": {},
   "toc_section_display": true,
   "toc_window_display": true
  }
 },
 "nbformat": 4,
 "nbformat_minor": 5
}
