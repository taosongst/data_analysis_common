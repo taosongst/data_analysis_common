{
 "cells": [
  {
   "cell_type": "markdown",
   "id": "86d4fd16",
   "metadata": {},
   "source": [
    "# 数据处理流程"
   ]
  },
  {
   "cell_type": "markdown",
   "id": "27f9783b",
   "metadata": {},
   "source": [
    "## 预处理"
   ]
  },
  {
   "cell_type": "code",
   "execution_count": null,
   "id": "ade3eb3b",
   "metadata": {},
   "outputs": [],
   "source": []
  },
  {
   "cell_type": "markdown",
   "id": "285ce592",
   "metadata": {},
   "source": [
    "## 可视化"
   ]
  },
  {
   "cell_type": "markdown",
   "id": "53bda4ed",
   "metadata": {},
   "source": [
    "#### 柱状图"
   ]
  },
  {
   "cell_type": "code",
   "execution_count": null,
   "id": "50278565",
   "metadata": {},
   "outputs": [],
   "source": [
    "import seaborn as sns\n",
    "%matplotlib inline\n",
    "\n",
    "#柱状图\n",
    "df = ...\n",
    "sns.barplot(x = 'Sex', y = 'Survived', data=train)\n",
    "\n",
    "#自定义柱状图\n",
    "labels = ['unkonwn', 'Baby', 'Child', 'Teenager', 'Young adult', 'Adult', 'Senior']\n",
    "bins = [-1, 0, 5, 12, 18, 24, 25, 60, np.inf]\n",
    "train['AgeGroup'] = pd.cut(train['Age'], bins, labels = labels)\n",
    "sns.barplot(x = 'AgeGroup', y = 'Survived', data=train)"
   ]
  },
  {
   "cell_type": "markdown",
   "id": "b114f4b3",
   "metadata": {},
   "source": [
    "## 预处理"
   ]
  },
  {
   "cell_type": "markdown",
   "id": "cd8ae95d",
   "metadata": {},
   "source": [
    "#### 缺失值"
   ]
  },
  {
   "cell_type": "code",
   "execution_count": 4,
   "id": "1cf7c5e6",
   "metadata": {},
   "outputs": [],
   "source": [
    "df = ...\n",
    "\n",
    "#检查null\n",
    "pd.isnull(df).sum()"
   ]
  },
  {
   "cell_type": "markdown",
   "id": "a0acd716",
   "metadata": {},
   "source": [
    "### 字段编码成数字\n",
    "1. 一般来说取值<10可以one hot"
   ]
  },
  {
   "cell_type": "markdown",
   "id": "5f1ab7bb",
   "metadata": {},
   "source": [
    "#### One Hot\n"
   ]
  },
  {
   "cell_type": "code",
   "execution_count": 2,
   "id": "2500c86a",
   "metadata": {},
   "outputs": [],
   "source": [
    "pd.get_dummies(df, columns = ['education'])"
   ]
  },
  {
   "cell_type": "markdown",
   "id": "e4bb3598",
   "metadata": {},
   "source": [
    "#### LabelEncoder\n",
    "1.按照字段的顺序（也许是字典序）"
   ]
  },
  {
   "cell_type": "code",
   "execution_count": null,
   "id": "f0e43bfc",
   "metadata": {},
   "outputs": [],
   "source": [
    "from sklearn.preprocessing import LabelEncoder\n",
    "le = LabelEncoder()\n",
    "df['xxx'] = le.fit_transform(df['country'])  #可以按fit，transform分开\n",
    "df.head(10)"
   ]
  },
  {
   "cell_type": "markdown",
   "id": "039c2a22",
   "metadata": {},
   "source": [
    "#### pd.factorize\n",
    "1. 按照出现的次数"
   ]
  },
  {
   "cell_type": "code",
   "execution_count": null,
   "id": "341db2f7",
   "metadata": {},
   "outputs": [],
   "source": [
    "df['country_LabelEncoder'] = pd.factorize(df['country'])[0]"
   ]
  },
  {
   "cell_type": "markdown",
   "id": "04de0c08",
   "metadata": {},
   "source": [
    "#### BinartEncoder"
   ]
  },
  {
   "cell_type": "code",
   "execution_count": null,
   "id": "71092aa6",
   "metadata": {},
   "outputs": [],
   "source": [
    "import category_encoders as ce\n",
    "encoder = ce.BinaryEncoder(cols = ['country'])\n",
    "\n",
    "pd.concat([df, encoder.fit(transform(df['country']).iloc[:,1:])], axis = 1)"
   ]
  },
  {
   "cell_type": "markdown",
   "id": "fa65bbe5",
   "metadata": {},
   "source": [
    "#### Counting Encoding"
   ]
  },
  {
   "cell_type": "code",
   "execution_count": null,
   "id": "a28a4ae1",
   "metadata": {},
   "outputs": [],
   "source": [
    "df['country_count'] = df['country'].map(df['country'].value_counts())"
   ]
  },
  {
   "cell_type": "markdown",
   "id": "2987d557",
   "metadata": {},
   "source": [
    "#### Target encoding\n",
    "使用标签（target）进行编码，比如取某个country（china）对应的target的mean"
   ]
  },
  {
   "cell_type": "code",
   "execution_count": null,
   "id": "18b72e88",
   "metadata": {},
   "outputs": [],
   "source": [
    "df['country_target'] = df['country'].map(df.groupby(['country'])['target'].mean())\n",
    "df.head()"
   ]
  },
  {
   "cell_type": "markdown",
   "id": "1181a06e",
   "metadata": {},
   "source": [
    "### 数值类别的特征工程"
   ]
  },
  {
   "cell_type": "markdown",
   "id": "f9feffde",
   "metadata": {},
   "source": [
    "#### 取整（round）"
   ]
  },
  {
   "cell_type": "code",
   "execution_count": null,
   "id": "0a52fbf6",
   "metadata": {},
   "outputs": [],
   "source": [
    "df['age_rount1'] = df['age'].round()\n",
    "df['age_rount2'] = (df['age']/10).astype(int)"
   ]
  },
  {
   "cell_type": "markdown",
   "id": "0b38dfdb",
   "metadata": {},
   "source": [
    "### 日期\n",
    "1. 手动特征提取，比如年/月/日/星期几，是否高峰时段\n",
    "2. 根据上述特征进行标签编码，比如在星期几固定时的中位数，平均数"
   ]
  },
  {
   "cell_type": "markdown",
   "id": "9278267c",
   "metadata": {},
   "source": [
    " ## 特征筛选"
   ]
  },
  {
   "cell_type": "markdown",
   "id": "e0279e97",
   "metadata": {},
   "source": [
    "### 基于统计值的特征筛选\n",
    "1.字段方差（方差大的比较好...但是这个可以scale）\n",
    "\n",
    "2.缺失值比例\n",
    "\n",
    "3.分布一致性（在训练集/验证集中分布不一致）\n",
    "\n",
    "4.离群点\n",
    "\n",
    "5.标签相关性\n"
   ]
  },
  {
   "cell_type": "markdown",
   "id": "369a5b83",
   "metadata": {},
   "source": [
    "#### 方差"
   ]
  },
  {
   "cell_type": "code",
   "execution_count": 16,
   "id": "0949d40d",
   "metadata": {},
   "outputs": [
    {
     "name": "stdout",
     "output_type": "stream",
     "text": [
      "['CHAS' 'NOX']\n",
      "['CRIM' 'ZN' 'INDUS' 'CHAS' 'NOX' 'RM' 'AGE' 'DIS' 'RAD' 'TAX' 'PTRATIO'\n",
      " 'B' 'LSTAT']\n"
     ]
    }
   ],
   "source": [
    "from sklearn.feature_selection import VarianceThreshold\n",
    "from sklearn.datasets import load_boston\n",
    "X = [[0,0,1],[0,1,0],[1,0,0],[0,1,1],[0,1,0],[0,1,1]]\n",
    "sel = VarianceThreshold(threshold=.8*(1-.8))\n",
    "sel.fit_transform(X)\n",
    "\n",
    "\n",
    "data = load_boston()\n",
    "sel.fit_transform(data.data)\n",
    "print(data.feature_names[~sel.get_support()])\n",
    "print(data.feature_names)"
   ]
  },
  {
   "cell_type": "markdown",
   "id": "7ea41c80",
   "metadata": {},
   "source": [
    "### 基于模型的筛选"
   ]
  },
  {
   "cell_type": "markdown",
   "id": "a4b72ca9",
   "metadata": {},
   "source": [
    "#### 基于树模型的基尼指数\n",
    "1.根据字段在节点分裂的信息增益或者基尼指数\n",
    "2.根据字段被分裂的次数，字段分裂平均深度"
   ]
  },
  {
   "cell_type": "code",
   "execution_count": 12,
   "id": "682de75c",
   "metadata": {},
   "outputs": [
    {
     "name": "stdout",
     "output_type": "stream",
     "text": [
      "[0.03610464 0.00090755 0.00585795 0.00056138 0.02164243 0.46382012\n",
      " 0.01243879 0.07000646 0.00344634 0.01241758 0.01840493 0.0115689\n",
      " 0.34282291]\n"
     ]
    },
    {
     "data": {
      "image/png": "[encoded data removed]",
      "text/plain": [
       "<Figure size 864x432 with 1 Axes>"
      ]
     },
     "metadata": {
      "needs_background": "light"
     },
     "output_type": "display_data"
    }
   ],
   "source": [
    "from sklearn.ensemble import RandomForestRegressor \n",
    "from matplotlib import pyplot as plt\n",
    "data = load_boston()\n",
    "\n",
    "rf = RandomForestRegressor()\n",
    "rf.fit(data.data, data.target)\n",
    "print(rf.feature_importances_)\n",
    "\n",
    "plt.figure(figsize=(12,6))\n",
    "plt.bar(range(1,14), rf.feature_importances_)\n",
    "_ = plt.xticks(range(1,14), data.feature_names)"
   ]
  },
  {
   "cell_type": "code",
   "execution_count": 10,
   "id": "ed4034bb",
   "metadata": {},
   "outputs": [
    {
     "data": {
      "image/png": "[encoded data removed]",
      "text/plain": [
       "<Figure size 864x432 with 1 Axes>"
      ]
     },
     "metadata": {
      "needs_background": "light"
     },
     "output_type": "display_data"
    }
   ],
   "source": [
    "import numpy as np\n",
    "from lightgbm import LGBMRegressor\n",
    "\n",
    "clf = LGBMRegressor()\n",
    "clf.fit(data.data, data.target)\n",
    "\n",
    "plt.figure(figsize=(12,6))\n",
    "plt.bar(range(1,14), clf.feature_importances_)\n",
    "_ = plt.xticks(range(1,14), data.feature_names)"
   ]
  },
  {
   "cell_type": "code",
   "execution_count": 14,
   "id": "961c7fbc",
   "metadata": {},
   "outputs": [
    {
     "data": {
      "image/png": "[encoded data removed]",
      "text/plain": [
       "<Figure size 432x216 with 1 Axes>"
      ]
     },
     "metadata": {
      "needs_background": "light"
     },
     "output_type": "display_data"
    }
   ],
   "source": [
    "import numpy as np\n",
    "from xgboost import XGBRegressor\n",
    "\n",
    "clf = XGBRegressor()\n",
    "clf.fit(data.data, data.target)\n",
    "\n",
    "plt.figure(figsize=(6,3))\n",
    "plt.bar(range(1,14), clf.feature_importances_)\n",
    "_ = plt.xticks(range(1,14), data.feature_names)"
   ]
  },
  {
   "cell_type": "markdown",
   "id": "0bb8286e",
   "metadata": {},
   "source": [
    " #### 打散\n",
    " 1.根据字段打散后对模型影响效果"
   ]
  },
  {
   "cell_type": "code",
   "execution_count": 5,
   "id": "a0d4f804",
   "metadata": {},
   "outputs": [],
   "source": [
    "from sklearn.ensemble import ExtraTreesRegressor\n",
    "from sklearn.inspection import permutation_importance\n",
    "from sklearn.datasets import load_boston\n",
    "data = load_boston()\n",
    "clf = RandomForestRegressor().fit(data.data, data.target)\n",
    "result = permutation_importance(clf, data.data, data.target, n_repeats=10, random_state=0)"
   ]
  },
  {
   "cell_type": "code",
   "execution_count": 6,
   "id": "d19aef4f",
   "metadata": {},
   "outputs": [
    {
     "data": {
      "text/plain": [
       "array([3.84082102e-02, 5.13581742e-04, 5.56628120e-03, 2.85371507e-04,\n",
       "       4.71941992e-02, 5.37266663e-01, 1.58294336e-02, 1.20446760e-01,\n",
       "       3.32691017e-03, 1.85968659e-02, 2.95847205e-02, 1.05806315e-02,\n",
       "       5.38575312e-01])"
      ]
     },
     "execution_count": 6,
     "metadata": {},
     "output_type": "execute_result"
    }
   ],
   "source": [
    "result.importances_mean"
   ]
  },
  {
   "cell_type": "code",
   "execution_count": 11,
   "id": "aa8c05b5",
   "metadata": {},
   "outputs": [
    {
     "data": {
      "image/png": "[encoded data removed]",
      "text/plain": [
       "<Figure size 720x360 with 1 Axes>"
      ]
     },
     "metadata": {
      "needs_background": "light"
     },
     "output_type": "display_data"
    }
   ],
   "source": [
    "plt.figure(figsize=(10,5))\n",
    "plt.bar(range(data.data.shape[1]), result.importances_mean)\n",
    "_ = plt.xticks(range(data.data.shape[1]), data.feature_names)"
   ]
  },
  {
   "cell_type": "markdown",
   "id": "e0606312",
   "metadata": {},
   "source": [
    "## K-fold\n",
    "1. 利用 sklearn.model_selection 里的 StratifiedKFold"
   ]
  },
  {
   "cell_type": "markdown",
   "id": "6b7e1d7a",
   "metadata": {},
   "source": [
    "## Metrics\n",
    "1. sklearn.metrics"
   ]
  },
  {
   "cell_type": "markdown",
   "id": "917bf097",
   "metadata": {},
   "source": [
    "# Pandas Basic"
   ]
  },
  {
   "cell_type": "markdown",
   "id": "e8fce5df",
   "metadata": {},
   "source": [
    "### Drop\n"
   ]
  },
  {
   "cell_type": "code",
   "execution_count": null,
   "id": "7a6b0d93",
   "metadata": {},
   "outputs": [],
   "source": [
    "df.drop(['col1','col2'], axis=1)"
   ]
  },
  {
   "cell_type": "markdown",
   "id": "a1aec552",
   "metadata": {},
   "source": [
    "# Sklearn Basic"
   ]
  },
  {
   "cell_type": "markdown",
   "id": "c2d6d22e",
   "metadata": {},
   "source": [
    "### features selection 特征筛选"
   ]
  },
  {
   "cell_type": "code",
   "execution_count": 13,
   "id": "0b7e5f24",
   "metadata": {},
   "outputs": [],
   "source": [
    "from sklearn.feature_selection import VarianceThreshold"
   ]
  },
  {
   "cell_type": "markdown",
   "id": "de5a45ca",
   "metadata": {},
   "source": [
    "### model_selection"
   ]
  },
  {
   "cell_type": "code",
   "execution_count": 14,
   "id": "e9d75389",
   "metadata": {},
   "outputs": [],
   "source": [
    "from sklearn.model_selection import StratifiedKFold"
   ]
  },
  {
   "cell_type": "markdown",
   "id": "79fac22e",
   "metadata": {},
   "source": [
    "# Time Series 时间序列"
   ]
  },
  {
   "cell_type": "markdown",
   "id": "2e5fe311",
   "metadata": {},
   "source": [
    "### Dealing With Time Stamp 时间戳"
   ]
  },
  {
   "cell_type": "markdown",
   "id": "88b2e860",
   "metadata": {},
   "source": [
    "### Seasonality and Trend"
   ]
  },
  {
   "cell_type": "markdown",
   "id": "f81c7be0",
   "metadata": {},
   "source": [
    "### Some Models\n",
    "1. Arima\n",
    "2. Prophet\n",
    "3. Neural Prophet\n",
    "4. Vector Autoregression (VAR)"
   ]
  },
  {
   "cell_type": "markdown",
   "id": "ae51ed15",
   "metadata": {},
   "source": [
    "### Dataset Construction 数据集构建"
   ]
  },
  {
   "cell_type": "code",
   "execution_count": null,
   "id": "c481d5b2",
   "metadata": {},
   "outputs": [],
   "source": [
    "windows_length = 5\n",
    "dataset = tf.data.Dataset.from_tensor_slices(df_train)\n",
    "dataset = dataset.window(windows_length, shift=1, drop_remainder=True)\n",
    "dataset = dataset.flat_map(lambda window: window.batch(windows_length))\n",
    "dataset = dataset.map(lambda window: (window[:,:-1], window[-1][-1]))"
   ]
  }
 ],
 "metadata": {
  "kernelspec": {
   "display_name": "Python 3 (ipykernel)",
   "language": "python",
   "name": "python3"
  },
  "language_info": {
   "codemirror_mode": {
    "name": "ipython",
    "version": 3
   },
   "file_extension": ".py",
   "mimetype": "text/x-python",
   "name": "python",
   "nbconvert_exporter": "python",
   "pygments_lexer": "ipython3",
   "version": "3.8.8"
  }
 },
 "nbformat": 4,
 "nbformat_minor": 5
}
