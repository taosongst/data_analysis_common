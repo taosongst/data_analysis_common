{
 "cells": [
  {
   "cell_type": "markdown",
   "id": "0882224c",
   "metadata": {},
   "source": [
    "# 数据处理流程"
   ]
  },
  {
   "cell_type": "code",
   "execution_count": 3,
   "id": "e617c6a3",
   "metadata": {},
   "outputs": [
    {
     "data": {
      "text/html": [
       "<div>\n",
       "<style scoped>\n",
       "    .dataframe tbody tr th:only-of-type {\n",
       "        vertical-align: middle;\n",
       "    }\n",
       "\n",
       "    .dataframe tbody tr th {\n",
       "        vertical-align: top;\n",
       "    }\n",
       "\n",
       "    .dataframe thead th {\n",
       "        text-align: right;\n",
       "    }\n",
       "</style>\n",
       "<table border=\"1\" class=\"dataframe\">\n",
       "  <thead>\n",
       "    <tr style=\"text-align: right;\">\n",
       "      <th></th>\n",
       "      <th>sepal_length</th>\n",
       "      <th>sepal_width</th>\n",
       "      <th>petal_length</th>\n",
       "      <th>petal_width</th>\n",
       "      <th>species</th>\n",
       "    </tr>\n",
       "  </thead>\n",
       "  <tbody>\n",
       "    <tr>\n",
       "      <th>0</th>\n",
       "      <td>5.1</td>\n",
       "      <td>3.5</td>\n",
       "      <td>1.4</td>\n",
       "      <td>0.2</td>\n",
       "      <td>setosa</td>\n",
       "    </tr>\n",
       "    <tr>\n",
       "      <th>1</th>\n",
       "      <td>4.9</td>\n",
       "      <td>3.0</td>\n",
       "      <td>1.4</td>\n",
       "      <td>0.2</td>\n",
       "      <td>setosa</td>\n",
       "    </tr>\n",
       "    <tr>\n",
       "      <th>2</th>\n",
       "      <td>4.7</td>\n",
       "      <td>3.2</td>\n",
       "      <td>1.3</td>\n",
       "      <td>0.2</td>\n",
       "      <td>setosa</td>\n",
       "    </tr>\n",
       "  </tbody>\n",
       "</table>\n",
       "</div>"
      ],
      "text/plain": [
       "   sepal_length  sepal_width  petal_length  petal_width species\n",
       "0           5.1          3.5           1.4          0.2  setosa\n",
       "1           4.9          3.0           1.4          0.2  setosa\n",
       "2           4.7          3.2           1.3          0.2  setosa"
      ]
     },
     "execution_count": 3,
     "metadata": {},
     "output_type": "execute_result"
    }
   ],
   "source": [
    "import seaborn as sns\n",
    "iris = sns.load_dataset('iris')\n",
    "iris.head(3)"
   ]
  },
  {
   "cell_type": "code",
   "execution_count": 8,
   "id": "224f1e92",
   "metadata": {},
   "outputs": [
    {
     "name": "stdout",
     "output_type": "stream",
     "text": [
      "<class 'pandas.core.frame.DataFrame'>\n",
      "RangeIndex: 150 entries, 0 to 149\n",
      "Data columns (total 5 columns):\n",
      " #   Column        Non-Null Count  Dtype  \n",
      "---  ------        --------------  -----  \n",
      " 0   sepal_length  150 non-null    float64\n",
      " 1   sepal_width   150 non-null    float64\n",
      " 2   petal_length  150 non-null    float64\n",
      " 3   petal_width   150 non-null    float64\n",
      " 4   species       150 non-null    object \n",
      "dtypes: float64(4), object(1)\n",
      "memory usage: 6.0+ KB\n"
     ]
    }
   ],
   "source": [
    "iris.info()"
   ]
  },
  {
   "cell_type": "markdown",
   "id": "27f9783b",
   "metadata": {},
   "source": [
    "## 预处理"
   ]
  },
  {
   "cell_type": "markdown",
   "id": "1b57bb95",
   "metadata": {},
   "source": [
    "### 查看缺失值"
   ]
  },
  {
   "cell_type": "code",
   "execution_count": 4,
   "id": "4dbd5ef2",
   "metadata": {},
   "outputs": [
    {
     "data": {
      "text/plain": [
       "sepal_length    0\n",
       "sepal_width     0\n",
       "petal_length    0\n",
       "petal_width     0\n",
       "species         0\n",
       "dtype: int64"
      ]
     },
     "execution_count": 4,
     "metadata": {},
     "output_type": "execute_result"
    }
   ],
   "source": [
    "import pandas as pd\n",
    "df = iris\n",
    "\n",
    "#检查null\n",
    "pd.isnull(df).sum()"
   ]
  },
  {
   "cell_type": "markdown",
   "id": "58201c97",
   "metadata": {},
   "source": [
    "### 处理缺失值"
   ]
  },
  {
   "cell_type": "markdown",
   "id": "80036e98",
   "metadata": {},
   "source": [
    "### 做成dataset"
   ]
  },
  {
   "cell_type": "markdown",
   "id": "0c058527",
   "metadata": {},
   "source": [
    "### NLP的预处理"
   ]
  },
  {
   "cell_type": "markdown",
   "id": "2e49686e",
   "metadata": {},
   "source": [
    "## Single Feature Analysis 单因子分析"
   ]
  },
  {
   "cell_type": "code",
   "execution_count": 142,
   "id": "5aeb99ca",
   "metadata": {},
   "outputs": [
    {
     "name": "stdout",
     "output_type": "stream",
     "text": [
      "<class 'pandas.core.frame.DataFrame'>\n",
      "RangeIndex: 15002 entries, 0 to 15001\n",
      "Data columns (total 10 columns):\n",
      " #   Column                 Non-Null Count  Dtype  \n",
      "---  ------                 --------------  -----  \n",
      " 0   satisfaction_level     15000 non-null  float64\n",
      " 1   last_evaluation        15002 non-null  float64\n",
      " 2   number_project         15002 non-null  int64  \n",
      " 3   average_monthly_hours  15002 non-null  int64  \n",
      " 4   time_spend_company     15002 non-null  int64  \n",
      " 5   Work_accident          15002 non-null  int64  \n",
      " 6   left                   15002 non-null  int64  \n",
      " 7   promotion_last_5years  15002 non-null  int64  \n",
      " 8   department             15002 non-null  object \n",
      " 9   salary                 15002 non-null  object \n",
      "dtypes: float64(2), int64(6), object(2)\n",
      "memory usage: 1.1+ MB\n"
     ]
    }
   ],
   "source": [
    "import pandas as pd\n",
    "import scipy\n",
    "import numpy as np\n",
    "df_hr = pd.read_csv('HR.csv')\n",
    "df_hr.info()"
   ]
  },
  {
   "cell_type": "code",
   "execution_count": 127,
   "id": "a99201e3",
   "metadata": {},
   "outputs": [
    {
     "data": {
      "text/html": [
       "<div>\n",
       "<style scoped>\n",
       "    .dataframe tbody tr th:only-of-type {\n",
       "        vertical-align: middle;\n",
       "    }\n",
       "\n",
       "    .dataframe tbody tr th {\n",
       "        vertical-align: top;\n",
       "    }\n",
       "\n",
       "    .dataframe thead th {\n",
       "        text-align: right;\n",
       "    }\n",
       "</style>\n",
       "<table border=\"1\" class=\"dataframe\">\n",
       "  <thead>\n",
       "    <tr style=\"text-align: right;\">\n",
       "      <th></th>\n",
       "      <th>satisfaction_level</th>\n",
       "      <th>last_evaluation</th>\n",
       "      <th>number_project</th>\n",
       "      <th>average_monthly_hours</th>\n",
       "      <th>time_spend_company</th>\n",
       "      <th>Work_accident</th>\n",
       "      <th>left</th>\n",
       "      <th>promotion_last_5years</th>\n",
       "      <th>department</th>\n",
       "      <th>salary</th>\n",
       "    </tr>\n",
       "  </thead>\n",
       "  <tbody>\n",
       "    <tr>\n",
       "      <th>0</th>\n",
       "      <td>0.38</td>\n",
       "      <td>0.53</td>\n",
       "      <td>2</td>\n",
       "      <td>157</td>\n",
       "      <td>3</td>\n",
       "      <td>0</td>\n",
       "      <td>1</td>\n",
       "      <td>0</td>\n",
       "      <td>sales</td>\n",
       "      <td>low</td>\n",
       "    </tr>\n",
       "    <tr>\n",
       "      <th>1</th>\n",
       "      <td>0.80</td>\n",
       "      <td>0.86</td>\n",
       "      <td>5</td>\n",
       "      <td>262</td>\n",
       "      <td>6</td>\n",
       "      <td>0</td>\n",
       "      <td>1</td>\n",
       "      <td>0</td>\n",
       "      <td>sales</td>\n",
       "      <td>medium</td>\n",
       "    </tr>\n",
       "  </tbody>\n",
       "</table>\n",
       "</div>"
      ],
      "text/plain": [
       "   satisfaction_level  last_evaluation  number_project  average_monthly_hours  \\\n",
       "0                0.38             0.53               2                    157   \n",
       "1                0.80             0.86               5                    262   \n",
       "\n",
       "   time_spend_company  Work_accident  left  promotion_last_5years department  \\\n",
       "0                   3              0     1                      0      sales   \n",
       "1                   6              0     1                      0      sales   \n",
       "\n",
       "   salary  \n",
       "0     low  \n",
       "1  medium  "
      ]
     },
     "execution_count": 127,
     "metadata": {},
     "output_type": "execute_result"
    }
   ],
   "source": [
    "df_hr.head(2)"
   ]
  },
  {
   "cell_type": "code",
   "execution_count": 201,
   "id": "c894906e",
   "metadata": {},
   "outputs": [
    {
     "data": {
      "text/html": [
       "<div>\n",
       "<style scoped>\n",
       "    .dataframe tbody tr th:only-of-type {\n",
       "        vertical-align: middle;\n",
       "    }\n",
       "\n",
       "    .dataframe tbody tr th {\n",
       "        vertical-align: top;\n",
       "    }\n",
       "\n",
       "    .dataframe thead th {\n",
       "        text-align: right;\n",
       "    }\n",
       "</style>\n",
       "<table border=\"1\" class=\"dataframe\">\n",
       "  <thead>\n",
       "    <tr style=\"text-align: right;\">\n",
       "      <th></th>\n",
       "      <th>satisfaction_level</th>\n",
       "      <th>last_evaluation</th>\n",
       "      <th>number_project</th>\n",
       "      <th>average_monthly_hours</th>\n",
       "      <th>time_spend_company</th>\n",
       "      <th>Work_accident</th>\n",
       "      <th>left</th>\n",
       "      <th>promotion_last_5years</th>\n",
       "    </tr>\n",
       "  </thead>\n",
       "  <tbody>\n",
       "    <tr>\n",
       "      <th>count</th>\n",
       "      <td>15000.000000</td>\n",
       "      <td>15002.000000</td>\n",
       "      <td>15002.000000</td>\n",
       "      <td>15002.000000</td>\n",
       "      <td>15002.000000</td>\n",
       "      <td>15002.000000</td>\n",
       "      <td>15002.000000</td>\n",
       "      <td>15002.000000</td>\n",
       "    </tr>\n",
       "    <tr>\n",
       "      <th>mean</th>\n",
       "      <td>0.612839</td>\n",
       "      <td>67.373732</td>\n",
       "      <td>3.802693</td>\n",
       "      <td>201.041728</td>\n",
       "      <td>3.498067</td>\n",
       "      <td>0.144581</td>\n",
       "      <td>0.238235</td>\n",
       "      <td>0.021264</td>\n",
       "    </tr>\n",
       "    <tr>\n",
       "      <th>std</th>\n",
       "      <td>0.248623</td>\n",
       "      <td>8164.407524</td>\n",
       "      <td>1.232733</td>\n",
       "      <td>49.941815</td>\n",
       "      <td>1.460053</td>\n",
       "      <td>0.351689</td>\n",
       "      <td>0.426018</td>\n",
       "      <td>0.144267</td>\n",
       "    </tr>\n",
       "  </tbody>\n",
       "</table>\n",
       "</div>"
      ],
      "text/plain": [
       "       satisfaction_level  last_evaluation  number_project  \\\n",
       "count        15000.000000     15002.000000    15002.000000   \n",
       "mean             0.612839        67.373732        3.802693   \n",
       "std              0.248623      8164.407524        1.232733   \n",
       "\n",
       "       average_monthly_hours  time_spend_company  Work_accident          left  \\\n",
       "count           15002.000000        15002.000000   15002.000000  15002.000000   \n",
       "mean              201.041728            3.498067       0.144581      0.238235   \n",
       "std                49.941815            1.460053       0.351689      0.426018   \n",
       "\n",
       "       promotion_last_5years  \n",
       "count           15002.000000  \n",
       "mean                0.021264  \n",
       "std                 0.144267  "
      ]
     },
     "execution_count": 201,
     "metadata": {},
     "output_type": "execute_result"
    }
   ],
   "source": [
    "df_hr.describe().head(3)"
   ]
  },
  {
   "cell_type": "markdown",
   "id": "848c32fa",
   "metadata": {},
   "source": [
    "### Quantile, mode, median"
   ]
  },
  {
   "cell_type": "code",
   "execution_count": 153,
   "id": "2de487c9",
   "metadata": {},
   "outputs": [
    {
     "data": {
      "text/html": [
       "<div>\n",
       "<style scoped>\n",
       "    .dataframe tbody tr th:only-of-type {\n",
       "        vertical-align: middle;\n",
       "    }\n",
       "\n",
       "    .dataframe tbody tr th {\n",
       "        vertical-align: top;\n",
       "    }\n",
       "\n",
       "    .dataframe thead th {\n",
       "        text-align: right;\n",
       "    }\n",
       "</style>\n",
       "<table border=\"1\" class=\"dataframe\">\n",
       "  <thead>\n",
       "    <tr style=\"text-align: right;\">\n",
       "      <th></th>\n",
       "      <th>satisfaction_level</th>\n",
       "      <th>last_evaluation</th>\n",
       "      <th>number_project</th>\n",
       "      <th>average_monthly_hours</th>\n",
       "      <th>time_spend_company</th>\n",
       "      <th>Work_accident</th>\n",
       "      <th>left</th>\n",
       "      <th>promotion_last_5years</th>\n",
       "    </tr>\n",
       "  </thead>\n",
       "  <tbody>\n",
       "    <tr>\n",
       "      <th>0.0</th>\n",
       "      <td>0.09</td>\n",
       "      <td>0.36</td>\n",
       "      <td>2.0</td>\n",
       "      <td>96.0</td>\n",
       "      <td>2.0</td>\n",
       "      <td>0.0</td>\n",
       "      <td>0.0</td>\n",
       "      <td>0.0</td>\n",
       "    </tr>\n",
       "    <tr>\n",
       "      <th>0.2</th>\n",
       "      <td>0.40</td>\n",
       "      <td>0.54</td>\n",
       "      <td>3.0</td>\n",
       "      <td>150.0</td>\n",
       "      <td>2.0</td>\n",
       "      <td>0.0</td>\n",
       "      <td>0.0</td>\n",
       "      <td>0.0</td>\n",
       "    </tr>\n",
       "    <tr>\n",
       "      <th>0.4</th>\n",
       "      <td>0.57</td>\n",
       "      <td>0.65</td>\n",
       "      <td>3.0</td>\n",
       "      <td>181.0</td>\n",
       "      <td>3.0</td>\n",
       "      <td>0.0</td>\n",
       "      <td>0.0</td>\n",
       "      <td>0.0</td>\n",
       "    </tr>\n",
       "  </tbody>\n",
       "</table>\n",
       "</div>"
      ],
      "text/plain": [
       "     satisfaction_level  last_evaluation  number_project  \\\n",
       "0.0                0.09             0.36             2.0   \n",
       "0.2                0.40             0.54             3.0   \n",
       "0.4                0.57             0.65             3.0   \n",
       "\n",
       "     average_monthly_hours  time_spend_company  Work_accident  left  \\\n",
       "0.0                   96.0                 2.0            0.0   0.0   \n",
       "0.2                  150.0                 2.0            0.0   0.0   \n",
       "0.4                  181.0                 3.0            0.0   0.0   \n",
       "\n",
       "     promotion_last_5years  \n",
       "0.0                    0.0  \n",
       "0.2                    0.0  \n",
       "0.4                    0.0  "
      ]
     },
     "execution_count": 153,
     "metadata": {},
     "output_type": "execute_result"
    }
   ],
   "source": [
    "df_hr.quantile([i/5 for i in range(6)]).head(3)"
   ]
  },
  {
   "cell_type": "code",
   "execution_count": 103,
   "id": "cdfbf6b6",
   "metadata": {},
   "outputs": [
    {
     "data": {
      "text/html": [
       "<div>\n",
       "<style scoped>\n",
       "    .dataframe tbody tr th:only-of-type {\n",
       "        vertical-align: middle;\n",
       "    }\n",
       "\n",
       "    .dataframe tbody tr th {\n",
       "        vertical-align: top;\n",
       "    }\n",
       "\n",
       "    .dataframe thead th {\n",
       "        text-align: right;\n",
       "    }\n",
       "</style>\n",
       "<table border=\"1\" class=\"dataframe\">\n",
       "  <thead>\n",
       "    <tr style=\"text-align: right;\">\n",
       "      <th></th>\n",
       "      <th>satisfaction_level</th>\n",
       "      <th>last_evaluation</th>\n",
       "      <th>number_project</th>\n",
       "      <th>average_monthly_hours</th>\n",
       "      <th>time_spend_company</th>\n",
       "      <th>Work_accident</th>\n",
       "      <th>left</th>\n",
       "      <th>promotion_last_5years</th>\n",
       "      <th>department</th>\n",
       "      <th>salary</th>\n",
       "    </tr>\n",
       "  </thead>\n",
       "  <tbody>\n",
       "    <tr>\n",
       "      <th>0</th>\n",
       "      <td>0.1</td>\n",
       "      <td>0.55</td>\n",
       "      <td>4.0</td>\n",
       "      <td>135</td>\n",
       "      <td>3.0</td>\n",
       "      <td>0.0</td>\n",
       "      <td>0.0</td>\n",
       "      <td>0.0</td>\n",
       "      <td>sales</td>\n",
       "      <td>low</td>\n",
       "    </tr>\n",
       "    <tr>\n",
       "      <th>1</th>\n",
       "      <td>NaN</td>\n",
       "      <td>NaN</td>\n",
       "      <td>NaN</td>\n",
       "      <td>156</td>\n",
       "      <td>NaN</td>\n",
       "      <td>NaN</td>\n",
       "      <td>NaN</td>\n",
       "      <td>NaN</td>\n",
       "      <td>NaN</td>\n",
       "      <td>NaN</td>\n",
       "    </tr>\n",
       "  </tbody>\n",
       "</table>\n",
       "</div>"
      ],
      "text/plain": [
       "   satisfaction_level  last_evaluation  number_project  average_monthly_hours  \\\n",
       "0                 0.1             0.55             4.0                    135   \n",
       "1                 NaN              NaN             NaN                    156   \n",
       "\n",
       "   time_spend_company  Work_accident  left  promotion_last_5years department  \\\n",
       "0                 3.0            0.0   0.0                    0.0      sales   \n",
       "1                 NaN            NaN   NaN                    NaN        NaN   \n",
       "\n",
       "  salary  \n",
       "0    low  \n",
       "1    NaN  "
      ]
     },
     "execution_count": 103,
     "metadata": {},
     "output_type": "execute_result"
    }
   ],
   "source": [
    "#when it's not unique, the number of rows = the maximal number of modes\n",
    "df_hr.mode()"
   ]
  },
  {
   "cell_type": "markdown",
   "id": "f849bda2",
   "metadata": {},
   "source": [
    "### 偏态系数，峰态系数\n",
    "偏度(Skew) = 3次矩. skew<0 说明大多数值>平均值\n",
    "\n",
    "峰度(Kurtos) = 4次矩. 正态分布峰态系数=3"
   ]
  },
  {
   "cell_type": "code",
   "execution_count": 124,
   "id": "b4c68e98",
   "metadata": {},
   "outputs": [
    {
     "data": {
      "text/plain": [
       "(satisfaction_level     -0.476438\n",
       " last_evaluation       122.482652\n",
       " dtype: float64,\n",
       " satisfaction_level       -0.670696\n",
       " last_evaluation       15001.999987\n",
       " dtype: float64)"
      ]
     },
     "execution_count": 124,
     "metadata": {},
     "output_type": "execute_result"
    }
   ],
   "source": [
    "df_hr.skew().head(2), df_hr.kurt().head(2)"
   ]
  },
  {
   "cell_type": "markdown",
   "id": "f629a7d2",
   "metadata": {},
   "source": [
    "### Sample"
   ]
  },
  {
   "cell_type": "code",
   "execution_count": 126,
   "id": "86a47cd2",
   "metadata": {},
   "outputs": [
    {
     "data": {
      "text/html": [
       "<div>\n",
       "<style scoped>\n",
       "    .dataframe tbody tr th:only-of-type {\n",
       "        vertical-align: middle;\n",
       "    }\n",
       "\n",
       "    .dataframe tbody tr th {\n",
       "        vertical-align: top;\n",
       "    }\n",
       "\n",
       "    .dataframe thead th {\n",
       "        text-align: right;\n",
       "    }\n",
       "</style>\n",
       "<table border=\"1\" class=\"dataframe\">\n",
       "  <thead>\n",
       "    <tr style=\"text-align: right;\">\n",
       "      <th></th>\n",
       "      <th>satisfaction_level</th>\n",
       "      <th>last_evaluation</th>\n",
       "      <th>number_project</th>\n",
       "      <th>average_monthly_hours</th>\n",
       "      <th>time_spend_company</th>\n",
       "      <th>Work_accident</th>\n",
       "      <th>left</th>\n",
       "      <th>promotion_last_5years</th>\n",
       "      <th>department</th>\n",
       "      <th>salary</th>\n",
       "    </tr>\n",
       "  </thead>\n",
       "  <tbody>\n",
       "    <tr>\n",
       "      <th>3729</th>\n",
       "      <td>0.90</td>\n",
       "      <td>0.66</td>\n",
       "      <td>3</td>\n",
       "      <td>261</td>\n",
       "      <td>3</td>\n",
       "      <td>1</td>\n",
       "      <td>0</td>\n",
       "      <td>0</td>\n",
       "      <td>product_mng</td>\n",
       "      <td>medium</td>\n",
       "    </tr>\n",
       "    <tr>\n",
       "      <th>14542</th>\n",
       "      <td>0.11</td>\n",
       "      <td>0.85</td>\n",
       "      <td>7</td>\n",
       "      <td>302</td>\n",
       "      <td>4</td>\n",
       "      <td>0</td>\n",
       "      <td>1</td>\n",
       "      <td>0</td>\n",
       "      <td>sales</td>\n",
       "      <td>low</td>\n",
       "    </tr>\n",
       "  </tbody>\n",
       "</table>\n",
       "</div>"
      ],
      "text/plain": [
       "       satisfaction_level  last_evaluation  number_project  \\\n",
       "3729                 0.90             0.66               3   \n",
       "14542                0.11             0.85               7   \n",
       "\n",
       "       average_monthly_hours  time_spend_company  Work_accident  left  \\\n",
       "3729                     261                   3              1     0   \n",
       "14542                    302                   4              0     1   \n",
       "\n",
       "       promotion_last_5years   department  salary  \n",
       "3729                       0  product_mng  medium  \n",
       "14542                      0        sales     low  "
      ]
     },
     "execution_count": 126,
     "metadata": {},
     "output_type": "execute_result"
    }
   ],
   "source": [
    "df_hr.sample(2)"
   ]
  },
  {
   "cell_type": "markdown",
   "id": "57ab37f9",
   "metadata": {},
   "source": [
    "### 异常值分析，处理"
   ]
  },
  {
   "cell_type": "code",
   "execution_count": 128,
   "id": "bba0a510",
   "metadata": {},
   "outputs": [
    {
     "data": {
      "text/html": [
       "<div>\n",
       "<style scoped>\n",
       "    .dataframe tbody tr th:only-of-type {\n",
       "        vertical-align: middle;\n",
       "    }\n",
       "\n",
       "    .dataframe tbody tr th {\n",
       "        vertical-align: top;\n",
       "    }\n",
       "\n",
       "    .dataframe thead th {\n",
       "        text-align: right;\n",
       "    }\n",
       "</style>\n",
       "<table border=\"1\" class=\"dataframe\">\n",
       "  <thead>\n",
       "    <tr style=\"text-align: right;\">\n",
       "      <th></th>\n",
       "      <th>satisfaction_level</th>\n",
       "      <th>last_evaluation</th>\n",
       "      <th>number_project</th>\n",
       "      <th>average_monthly_hours</th>\n",
       "      <th>time_spend_company</th>\n",
       "      <th>Work_accident</th>\n",
       "      <th>left</th>\n",
       "      <th>promotion_last_5years</th>\n",
       "    </tr>\n",
       "  </thead>\n",
       "  <tbody>\n",
       "    <tr>\n",
       "      <th>0.25</th>\n",
       "      <td>0.44</td>\n",
       "      <td>0.56</td>\n",
       "      <td>3.0</td>\n",
       "      <td>156.0</td>\n",
       "      <td>3.0</td>\n",
       "      <td>0.0</td>\n",
       "      <td>0.0</td>\n",
       "      <td>0.0</td>\n",
       "    </tr>\n",
       "    <tr>\n",
       "      <th>0.75</th>\n",
       "      <td>0.82</td>\n",
       "      <td>0.87</td>\n",
       "      <td>5.0</td>\n",
       "      <td>245.0</td>\n",
       "      <td>4.0</td>\n",
       "      <td>0.0</td>\n",
       "      <td>0.0</td>\n",
       "      <td>0.0</td>\n",
       "    </tr>\n",
       "  </tbody>\n",
       "</table>\n",
       "</div>"
      ],
      "text/plain": [
       "      satisfaction_level  last_evaluation  number_project  \\\n",
       "0.25                0.44             0.56             3.0   \n",
       "0.75                0.82             0.87             5.0   \n",
       "\n",
       "      average_monthly_hours  time_spend_company  Work_accident  left  \\\n",
       "0.25                  156.0                 3.0            0.0   0.0   \n",
       "0.75                  245.0                 4.0            0.0   0.0   \n",
       "\n",
       "      promotion_last_5years  \n",
       "0.25                    0.0  \n",
       "0.75                    0.0  "
      ]
     },
     "execution_count": 128,
     "metadata": {},
     "output_type": "execute_result"
    }
   ],
   "source": [
    "quantile = df_hr.quantile([0.25, 0.75])\n",
    "quantile"
   ]
  },
  {
   "cell_type": "code",
   "execution_count": 143,
   "id": "96457ece",
   "metadata": {},
   "outputs": [],
   "source": [
    "for col in ['satisfaction_level','last_evaluation','average_monthly_hours']:\n",
    "    df_hr = df_hr[(df_hr[col]<quantile[col].iloc[1]+3*(quantile[col].iloc[1]-quantile[col].iloc[0])) & \n",
    "                  (df_hr[col]>quantile[col].iloc[0]-3*(quantile[col].iloc[1]-quantile[col].iloc[0]))]"
   ]
  },
  {
   "cell_type": "markdown",
   "id": "d61e5250",
   "metadata": {},
   "source": [
    "## multi-features analysis"
   ]
  },
  {
   "cell_type": "markdown",
   "id": "285ce592",
   "metadata": {},
   "source": [
    "## 可视化"
   ]
  },
  {
   "cell_type": "markdown",
   "id": "2721ffa7",
   "metadata": {},
   "source": [
    "#### 柱状图"
   ]
  },
  {
   "cell_type": "code",
   "execution_count": null,
   "id": "50278565",
   "metadata": {},
   "outputs": [],
   "source": [
    "import seaborn as sns\n",
    "%matplotlib inline\n",
    "\n",
    "#柱状图\n",
    "df = ...\n",
    "sns.barplot(x = 'Sex', y = 'Survived', data=train)\n",
    "\n",
    "#自定义柱状图\n",
    "labels = ['unkonwn', 'Baby', 'Child', 'Teenager', 'Young adult', 'Adult', 'Senior']\n",
    "bins = [-1, 0, 5, 12, 18, 24, 25, 60, np.inf]\n",
    "train['AgeGroup'] = pd.cut(train['Age'], bins, labels = labels)\n",
    "sns.barplot(x = 'AgeGroup', y = 'Survived', data=train)"
   ]
  },
  {
   "cell_type": "markdown",
   "id": "84759972",
   "metadata": {},
   "source": [
    "### subplot"
   ]
  },
  {
   "cell_type": "markdown",
   "id": "a0acd716",
   "metadata": {},
   "source": [
    "### 字段编码成数字\n",
    "1. 一般来说取值<10可以one hot"
   ]
  },
  {
   "cell_type": "markdown",
   "id": "5f1ab7bb",
   "metadata": {},
   "source": [
    "#### One Hot via pandas\n"
   ]
  },
  {
   "cell_type": "code",
   "execution_count": 2,
   "id": "2500c86a",
   "metadata": {},
   "outputs": [],
   "source": [
    "pd.get_dummies(df, columns = ['education'])"
   ]
  },
  {
   "cell_type": "markdown",
   "id": "e4bb3598",
   "metadata": {},
   "source": [
    "#### LabelEncoder\n",
    "1.按照字段的顺序（也许是字典序）"
   ]
  },
  {
   "cell_type": "code",
   "execution_count": null,
   "id": "f0e43bfc",
   "metadata": {},
   "outputs": [],
   "source": [
    "from sklearn.preprocessing import LabelEncoder\n",
    "le = LabelEncoder()\n",
    "df['xxx'] = le.fit_transform(df['country'])  #可以按fit，transform分开\n",
    "df.head(10)"
   ]
  },
  {
   "cell_type": "markdown",
   "id": "039c2a22",
   "metadata": {},
   "source": [
    "#### pd.factorize\n",
    "1. 按照出现的次数"
   ]
  },
  {
   "cell_type": "code",
   "execution_count": null,
   "id": "341db2f7",
   "metadata": {},
   "outputs": [],
   "source": [
    "df['country_LabelEncoder'] = pd.factorize(df['country'])[0]"
   ]
  },
  {
   "cell_type": "markdown",
   "id": "04de0c08",
   "metadata": {},
   "source": [
    "#### BinartEncoder"
   ]
  },
  {
   "cell_type": "code",
   "execution_count": null,
   "id": "71092aa6",
   "metadata": {},
   "outputs": [],
   "source": [
    "import category_encoders as ce\n",
    "encoder = ce.BinaryEncoder(cols = ['country'])\n",
    "\n",
    "pd.concat([df, encoder.fit(transform(df['country']).iloc[:,1:])], axis = 1)"
   ]
  },
  {
   "cell_type": "markdown",
   "id": "fa65bbe5",
   "metadata": {},
   "source": [
    "#### Counting Encoding"
   ]
  },
  {
   "cell_type": "code",
   "execution_count": null,
   "id": "a28a4ae1",
   "metadata": {},
   "outputs": [],
   "source": [
    "df['country_count'] = df['country'].map(df['country'].value_counts())"
   ]
  },
  {
   "cell_type": "markdown",
   "id": "2987d557",
   "metadata": {},
   "source": [
    "#### Target encoding\n",
    "使用标签（target）进行编码，比如取某个country（china）对应的target的mean"
   ]
  },
  {
   "cell_type": "code",
   "execution_count": null,
   "id": "18b72e88",
   "metadata": {},
   "outputs": [],
   "source": [
    "df['country_target'] = df['country'].map(df.groupby(['country'])['target'].mean())\n",
    "df.head()"
   ]
  },
  {
   "cell_type": "markdown",
   "id": "1181a06e",
   "metadata": {},
   "source": [
    "### 数值类别的特征工程"
   ]
  },
  {
   "cell_type": "markdown",
   "id": "f9feffde",
   "metadata": {},
   "source": [
    "#### 取整（round）"
   ]
  },
  {
   "cell_type": "code",
   "execution_count": null,
   "id": "0a52fbf6",
   "metadata": {},
   "outputs": [],
   "source": [
    "df['age_rount1'] = df['age'].round()\n",
    "df['age_rount2'] = (df['age']/10).astype(int)"
   ]
  },
  {
   "cell_type": "markdown",
   "id": "0b38dfdb",
   "metadata": {},
   "source": [
    "### 日期\n",
    "1. 手动特征提取，比如年/月/日/星期几，是否高峰时段\n",
    "2. 根据上述特征进行标签编码，比如在星期几固定时的中位数，平均数"
   ]
  },
  {
   "cell_type": "markdown",
   "id": "9278267c",
   "metadata": {},
   "source": [
    " ## 特征筛选"
   ]
  },
  {
   "cell_type": "markdown",
   "id": "61baa609",
   "metadata": {},
   "source": [
    "### 特征降维"
   ]
  },
  {
   "cell_type": "markdown",
   "id": "0024ee3f",
   "metadata": {},
   "source": [
    "#### PCA"
   ]
  },
  {
   "cell_type": "code",
   "execution_count": 200,
   "id": "0a82f9da",
   "metadata": {},
   "outputs": [
    {
     "data": {
      "text/plain": [
       "array(['satisfaction_level', 'last_evaluation', 'number_project',\n",
       "       'average_monthly_hours', 'time_spend_company', 'Work_accident',\n",
       "       'left', 'promotion_last_5years', 'department', 'salary'],\n",
       "      dtype=object)"
      ]
     },
     "execution_count": 200,
     "metadata": {},
     "output_type": "execute_result"
    }
   ],
   "source": [
    "from sklearn.decomposition import PCA\n",
    "df_hr = pd.read_csv('HR.csv')\n",
    "pca = PCA(n_components=3)\n",
    "# pca.fit_transform(df_hr)\n",
    "df_hr.columns.values"
   ]
  },
  {
   "cell_type": "markdown",
   "id": "986231fa",
   "metadata": {},
   "source": [
    "#### LDA (linear discriminant analysis)\n",
    "以二分类为例，希望对features space做一个线性变换，使得:\n",
    "1. 同一标注内的std尽可能小\n",
    "2. 不同标注内的距离尽可能大\n",
    "i.e. 对于一般的LDA是想要maximize $\\frac{|mean1-mean2|^2}{std_1^2 + std_2^2}$\n",
    "3. 在特征降维中，假设降维矩阵为 $\\omega_0$, 分成的两个集合为 $X_1,X_2$, 那么实际上是需要计算一些矩阵\n"
   ]
  },
  {
   "cell_type": "code",
   "execution_count": 155,
   "id": "08abd8a0",
   "metadata": {},
   "outputs": [],
   "source": [
    "from sklearn.discriminant_analysis import LinearDiscriminantAnalysis\n",
    "X=np.array([[-1,-1],[-2,-1],[-3,-2],[1,1],[2,1],[3,2]])\n",
    "Y = np.array([1,1,1,2,2,2])"
   ]
  },
  {
   "cell_type": "code",
   "execution_count": 161,
   "id": "3ec7344c",
   "metadata": {},
   "outputs": [
    {
     "data": {
      "text/plain": [
       "array([2])"
      ]
     },
     "execution_count": 161,
     "metadata": {},
     "output_type": "execute_result"
    }
   ],
   "source": [
    "#可以作为分类器使用，实际上就是linear discriminant analysis\n",
    "clf = LinearDiscriminantAnalysis(n_components=1).fit(X,Y)\n",
    "clf.predict([[0.8,1.0]])"
   ]
  },
  {
   "cell_type": "code",
   "execution_count": 156,
   "id": "6682c126",
   "metadata": {},
   "outputs": [
    {
     "data": {
      "text/plain": [
       "array([[-1.73205081],\n",
       "       [-1.73205081],\n",
       "       [-3.46410162],\n",
       "       [ 1.73205081],\n",
       "       [ 1.73205081],\n",
       "       [ 3.46410162]])"
      ]
     },
     "execution_count": 156,
     "metadata": {},
     "output_type": "execute_result"
    }
   ],
   "source": [
    "LinearDiscriminantAnalysis(n_components=1).fit_transform(X,Y)"
   ]
  },
  {
   "cell_type": "markdown",
   "id": "e0279e97",
   "metadata": {},
   "source": [
    "### 基于统计值的特征筛选\n",
    "1.字段方差（方差大的比较好...但是这个可以scale）\n",
    "\n",
    "2.缺失值比例\n",
    "\n",
    "3.分布一致性（在训练集/验证集中分布不一致）\n",
    "\n",
    "4.离群点\n",
    "\n",
    "5.标签相关性\n"
   ]
  },
  {
   "cell_type": "markdown",
   "id": "369a5b83",
   "metadata": {},
   "source": [
    "#### 方差"
   ]
  },
  {
   "cell_type": "code",
   "execution_count": 16,
   "id": "0949d40d",
   "metadata": {},
   "outputs": [
    {
     "name": "stdout",
     "output_type": "stream",
     "text": [
      "['CHAS' 'NOX']\n",
      "['CRIM' 'ZN' 'INDUS' 'CHAS' 'NOX' 'RM' 'AGE' 'DIS' 'RAD' 'TAX' 'PTRATIO'\n",
      " 'B' 'LSTAT']\n"
     ]
    }
   ],
   "source": [
    "from sklearn.feature_selection import VarianceThreshold\n",
    "from sklearn.datasets import load_boston\n",
    "X = [[0,0,1],[0,1,0],[1,0,0],[0,1,1],[0,1,0],[0,1,1]]\n",
    "sel = VarianceThreshold(threshold=.8*(1-.8))\n",
    "sel.fit_transform(X)\n",
    "\n",
    "\n",
    "data = load_boston()\n",
    "sel.fit_transform(data.data)\n",
    "print(data.feature_names[~sel.get_support()])\n",
    "print(data.feature_names)"
   ]
  },
  {
   "cell_type": "markdown",
   "id": "7ea41c80",
   "metadata": {},
   "source": [
    "### 基于模型的筛选"
   ]
  },
  {
   "cell_type": "markdown",
   "id": "a4b72ca9",
   "metadata": {},
   "source": [
    "#### 基于树模型的基尼指数\n",
    "1.根据字段在节点分裂的信息增益或者基尼指数\n",
    "2.根据字段被分裂的次数，字段分裂平均深度"
   ]
  },
  {
   "cell_type": "code",
   "execution_count": 146,
   "id": "682de75c",
   "metadata": {},
   "outputs": [
    {
     "name": "stdout",
     "output_type": "stream",
     "text": [
      "[0.03509644 0.00107264 0.00538695 0.00077721 0.02224523 0.43372665\n",
      " 0.01427714 0.07274482 0.00370644 0.01452394 0.01654546 0.01210584\n",
      " 0.36779126]\n"
     ]
    },
    {
     "data": {
      "image/png": "[encoded data removed]",
      "text/plain": [
       "<Figure size 576x216 with 1 Axes>"
      ]
     },
     "metadata": {
      "needs_background": "light"
     },
     "output_type": "display_data"
    }
   ],
   "source": [
    "from sklearn.ensemble import RandomForestRegressor \n",
    "from matplotlib import pyplot as plt\n",
    "data = load_boston()\n",
    "\n",
    "rf = RandomForestRegressor()\n",
    "rf.fit(data.data, data.target)\n",
    "print(rf.feature_importances_)\n",
    "\n",
    "plt.figure(figsize=(8,3))\n",
    "plt.bar(range(1,14), rf.feature_importances_)\n",
    "_ = plt.xticks(range(1,14), data.feature_names)"
   ]
  },
  {
   "cell_type": "code",
   "execution_count": 145,
   "id": "ed4034bb",
   "metadata": {},
   "outputs": [
    {
     "data": {
      "image/png": "[encoded data removed]",
      "text/plain": [
       "<Figure size 576x216 with 1 Axes>"
      ]
     },
     "metadata": {
      "needs_background": "light"
     },
     "output_type": "display_data"
    }
   ],
   "source": [
    "import numpy as np\n",
    "from lightgbm import LGBMRegressor\n",
    "\n",
    "clf = LGBMRegressor()\n",
    "clf.fit(data.data, data.target)\n",
    "\n",
    "plt.figure(figsize=(8,3))\n",
    "plt.bar(range(1,14), clf.feature_importances_)\n",
    "_ = plt.xticks(range(1,14), data.feature_names)"
   ]
  },
  {
   "cell_type": "code",
   "execution_count": 14,
   "id": "961c7fbc",
   "metadata": {},
   "outputs": [
    {
     "data": {
      "image/png": "[encoded data removed]",
      "text/plain": [
       "<Figure size 432x216 with 1 Axes>"
      ]
     },
     "metadata": {
      "needs_background": "light"
     },
     "output_type": "display_data"
    }
   ],
   "source": [
    "import numpy as np\n",
    "from xgboost import XGBRegressor\n",
    "\n",
    "clf = XGBRegressor()\n",
    "clf.fit(data.data, data.target)\n",
    "\n",
    "plt.figure(figsize=(6,3))\n",
    "plt.bar(range(1,14), clf.feature_importances_)\n",
    "_ = plt.xticks(range(1,14), data.feature_names)"
   ]
  },
  {
   "cell_type": "markdown",
   "id": "0bb8286e",
   "metadata": {},
   "source": [
    " #### 打散\n",
    " 1.根据字段打散后对模型影响效果"
   ]
  },
  {
   "cell_type": "code",
   "execution_count": 148,
   "id": "a0d4f804",
   "metadata": {},
   "outputs": [],
   "source": [
    "from sklearn.ensemble import ExtraTreesRegressor\n",
    "from sklearn.inspection import permutation_importance\n",
    "from sklearn.datasets import load_boston\n",
    "data = load_boston()\n",
    "clf = RandomForestRegressor().fit(data.data, data.target)\n",
    "result = permutation_importance(clf, data.data, data.target, n_repeats=10, random_state=0)"
   ]
  },
  {
   "cell_type": "code",
   "execution_count": 149,
   "id": "5da0b8d6",
   "metadata": {},
   "outputs": [
    {
     "data": {
      "text/plain": [
       "array([3.97043736e-02, 5.88603470e-04, 4.77340907e-03, 5.38821128e-04,\n",
       "       4.30916861e-02, 5.29722744e-01, 1.47302451e-02, 1.22226397e-01,\n",
       "       3.20147870e-03, 2.00852427e-02, 2.60135450e-02, 1.04812501e-02,\n",
       "       5.51719123e-01])"
      ]
     },
     "execution_count": 149,
     "metadata": {},
     "output_type": "execute_result"
    }
   ],
   "source": [
    "result.importances_mean"
   ]
  },
  {
   "cell_type": "code",
   "execution_count": 150,
   "id": "85ec4d46",
   "metadata": {},
   "outputs": [
    {
     "data": {
      "image/png": "[encoded data removed]",
      "text/plain": [
       "<Figure size 576x216 with 1 Axes>"
      ]
     },
     "metadata": {
      "needs_background": "light"
     },
     "output_type": "display_data"
    }
   ],
   "source": [
    "plt.figure(figsize=(8,3))\n",
    "plt.bar(range(data.data.shape[1]), result.importances_mean)\n",
    "_ = plt.xticks(range(data.data.shape[1]), data.feature_names)"
   ]
  },
  {
   "cell_type": "markdown",
   "id": "1423b96d",
   "metadata": {},
   "source": [
    "# Numpy Basic"
   ]
  },
  {
   "cell_type": "markdown",
   "id": "b3fd0d9c",
   "metadata": {},
   "source": [
    "### Random sampling"
   ]
  },
  {
   "cell_type": "markdown",
   "id": "4cde2c85",
   "metadata": {},
   "source": [
    "# Pandas Basic"
   ]
  },
  {
   "cell_type": "code",
   "execution_count": 213,
   "id": "ed313aa9",
   "metadata": {},
   "outputs": [
    {
     "data": {
      "text/html": [
       "<div>\n",
       "<style scoped>\n",
       "    .dataframe tbody tr th:only-of-type {\n",
       "        vertical-align: middle;\n",
       "    }\n",
       "\n",
       "    .dataframe tbody tr th {\n",
       "        vertical-align: top;\n",
       "    }\n",
       "\n",
       "    .dataframe thead th {\n",
       "        text-align: right;\n",
       "    }\n",
       "</style>\n",
       "<table border=\"1\" class=\"dataframe\">\n",
       "  <thead>\n",
       "    <tr style=\"text-align: right;\">\n",
       "      <th></th>\n",
       "      <th>sepal_length</th>\n",
       "      <th>sepal_width</th>\n",
       "      <th>petal_length</th>\n",
       "      <th>petal_width</th>\n",
       "      <th>species</th>\n",
       "    </tr>\n",
       "  </thead>\n",
       "  <tbody>\n",
       "    <tr>\n",
       "      <th>0</th>\n",
       "      <td>5.1</td>\n",
       "      <td>3.5</td>\n",
       "      <td>1.4</td>\n",
       "      <td>0.2</td>\n",
       "      <td>setosa</td>\n",
       "    </tr>\n",
       "    <tr>\n",
       "      <th>1</th>\n",
       "      <td>4.9</td>\n",
       "      <td>3.0</td>\n",
       "      <td>1.4</td>\n",
       "      <td>0.2</td>\n",
       "      <td>setosa</td>\n",
       "    </tr>\n",
       "    <tr>\n",
       "      <th>2</th>\n",
       "      <td>4.7</td>\n",
       "      <td>3.2</td>\n",
       "      <td>1.3</td>\n",
       "      <td>0.2</td>\n",
       "      <td>setosa</td>\n",
       "    </tr>\n",
       "  </tbody>\n",
       "</table>\n",
       "</div>"
      ],
      "text/plain": [
       "   sepal_length  sepal_width  petal_length  petal_width species\n",
       "0           5.1          3.5           1.4          0.2  setosa\n",
       "1           4.9          3.0           1.4          0.2  setosa\n",
       "2           4.7          3.2           1.3          0.2  setosa"
      ]
     },
     "execution_count": 213,
     "metadata": {},
     "output_type": "execute_result"
    }
   ],
   "source": [
    "import seaborn as sns\n",
    "import pandas as pd\n",
    "import numpy as np\n",
    "iris = sns.load_dataset('iris')\n",
    "df=iris\n",
    "df.head(3)"
   ]
  },
  {
   "cell_type": "code",
   "execution_count": 198,
   "id": "77908941",
   "metadata": {},
   "outputs": [
    {
     "data": {
      "text/html": [
       "<div>\n",
       "<style scoped>\n",
       "    .dataframe tbody tr th:only-of-type {\n",
       "        vertical-align: middle;\n",
       "    }\n",
       "\n",
       "    .dataframe tbody tr th {\n",
       "        vertical-align: top;\n",
       "    }\n",
       "\n",
       "    .dataframe thead th {\n",
       "        text-align: right;\n",
       "    }\n",
       "</style>\n",
       "<table border=\"1\" class=\"dataframe\">\n",
       "  <thead>\n",
       "    <tr style=\"text-align: right;\">\n",
       "      <th></th>\n",
       "      <th>sepal_length</th>\n",
       "      <th>sepal_width</th>\n",
       "      <th>petal_length</th>\n",
       "      <th>petal_width</th>\n",
       "    </tr>\n",
       "  </thead>\n",
       "  <tbody>\n",
       "    <tr>\n",
       "      <th>count</th>\n",
       "      <td>150.000000</td>\n",
       "      <td>150.000000</td>\n",
       "      <td>150.000</td>\n",
       "      <td>150.000000</td>\n",
       "    </tr>\n",
       "    <tr>\n",
       "      <th>mean</th>\n",
       "      <td>5.843333</td>\n",
       "      <td>3.057333</td>\n",
       "      <td>3.758</td>\n",
       "      <td>1.199333</td>\n",
       "    </tr>\n",
       "  </tbody>\n",
       "</table>\n",
       "</div>"
      ],
      "text/plain": [
       "       sepal_length  sepal_width  petal_length  petal_width\n",
       "count    150.000000   150.000000       150.000   150.000000\n",
       "mean       5.843333     3.057333         3.758     1.199333"
      ]
     },
     "execution_count": 198,
     "metadata": {},
     "output_type": "execute_result"
    }
   ],
   "source": [
    "df.describe().head(2)"
   ]
  },
  {
   "cell_type": "code",
   "execution_count": 5,
   "id": "8acfb550",
   "metadata": {},
   "outputs": [
    {
     "data": {
      "text/plain": [
       "(setosa        50\n",
       " versicolor    50\n",
       " virginica     50\n",
       " Name: species, dtype: int64,\n",
       " 5.0    10\n",
       " 5.1     9\n",
       " Name: sepal_length, dtype: int64)"
      ]
     },
     "execution_count": 5,
     "metadata": {},
     "output_type": "execute_result"
    }
   ],
   "source": [
    "df['species'].value_counts(), df['sepal_length'].value_counts().head(2)"
   ]
  },
  {
   "cell_type": "markdown",
   "id": "a6f454bd",
   "metadata": {},
   "source": [
    "### Set Options"
   ]
  },
  {
   "cell_type": "code",
   "execution_count": 17,
   "id": "57c960ca",
   "metadata": {},
   "outputs": [],
   "source": [
    "pd.set_option('display.max_columns', 85)\n",
    "pd.set_option('display.max_rows', 85)"
   ]
  },
  {
   "cell_type": "markdown",
   "id": "44f98e48",
   "metadata": {},
   "source": [
    "### Select Columns and Rows\n",
    "1.iloc vs loc\n",
    "iloc = (integer)loc, i.e. using integer to slice."
   ]
  },
  {
   "cell_type": "code",
   "execution_count": 203,
   "id": "5ec5b6f3",
   "metadata": {},
   "outputs": [
    {
     "data": {
      "text/html": [
       "<div>\n",
       "<style scoped>\n",
       "    .dataframe tbody tr th:only-of-type {\n",
       "        vertical-align: middle;\n",
       "    }\n",
       "\n",
       "    .dataframe tbody tr th {\n",
       "        vertical-align: top;\n",
       "    }\n",
       "\n",
       "    .dataframe thead th {\n",
       "        text-align: right;\n",
       "    }\n",
       "</style>\n",
       "<table border=\"1\" class=\"dataframe\">\n",
       "  <thead>\n",
       "    <tr style=\"text-align: right;\">\n",
       "      <th></th>\n",
       "      <th>sepal_length</th>\n",
       "      <th>sepal_width</th>\n",
       "      <th>petal_length</th>\n",
       "      <th>petal_width</th>\n",
       "      <th>species</th>\n",
       "      <th>new_columns</th>\n",
       "    </tr>\n",
       "  </thead>\n",
       "  <tbody>\n",
       "    <tr>\n",
       "      <th>0</th>\n",
       "      <td>5.1</td>\n",
       "      <td>3.5</td>\n",
       "      <td>1.4</td>\n",
       "      <td>0.2</td>\n",
       "      <td>setosa</td>\n",
       "      <td>0</td>\n",
       "    </tr>\n",
       "    <tr>\n",
       "      <th>1</th>\n",
       "      <td>4.9</td>\n",
       "      <td>3.0</td>\n",
       "      <td>1.4</td>\n",
       "      <td>0.2</td>\n",
       "      <td>setosa</td>\n",
       "      <td>1</td>\n",
       "    </tr>\n",
       "    <tr>\n",
       "      <th>2</th>\n",
       "      <td>4.7</td>\n",
       "      <td>3.2</td>\n",
       "      <td>1.3</td>\n",
       "      <td>0.2</td>\n",
       "      <td>setosa</td>\n",
       "      <td>2</td>\n",
       "    </tr>\n",
       "  </tbody>\n",
       "</table>\n",
       "</div>"
      ],
      "text/plain": [
       "   sepal_length  sepal_width  petal_length  petal_width species  new_columns\n",
       "0           5.1          3.5           1.4          0.2  setosa            0\n",
       "1           4.9          3.0           1.4          0.2  setosa            1\n",
       "2           4.7          3.2           1.3          0.2  setosa            2"
      ]
     },
     "execution_count": 203,
     "metadata": {},
     "output_type": "execute_result"
    }
   ],
   "source": [
    "## Use [] to select columns\n",
    "\n",
    "sepal_width = df['sepal_width'] ## return a series\n",
    "sepal_width_df = df[['sepal_width']] ## return a dataframe\n",
    "\n",
    "## Use .loc to select columns or rows, .loc[rows indexes, columns indexes (names)]\n",
    "sepal_width_df = df.loc[:,['sepal_width','sepal_length']] \n",
    "## return a series if one columsn, return a dataframe if multi columsn\n",
    "\n",
    "## directly access columns by attribute, but can only access existing columns\n",
    "df.sepal_length\n",
    "## to create new columns, use ['new_column_name']\n",
    "df['new_columns'] = list(range(len(df.index)))\n",
    "df.head(3)"
   ]
  },
  {
   "cell_type": "code",
   "execution_count": 204,
   "id": "e59f25ec",
   "metadata": {},
   "outputs": [
    {
     "data": {
      "text/plain": [
       "10    1.5\n",
       "14    1.2\n",
       "15    1.5\n",
       "16    1.3\n",
       "17    1.4\n",
       "Name: petal_length, dtype: float64"
      ]
     },
     "execution_count": 204,
     "metadata": {},
     "output_type": "execute_result"
    }
   ],
   "source": [
    "############################# selection by index: more on .loc[]\n",
    "## Slice rows by index, not specifying columns\n",
    "df.loc[:5]\n",
    "## Slice rows by every other xx\n",
    "df.loc[::4]\n",
    "## Reverse the dataframe, last row becomes the first row\n",
    "df.loc[::-1]\n",
    "## Assign values using .loc[]\n",
    "df.loc[0:5] = 0\n",
    "\n",
    "## Select rows with boolean array\n",
    "df.loc[df['sepal_length']>5]\n",
    "#### specify columns\n",
    "df.loc[df['sepal_length']>5, 'petal_length'].head()"
   ]
  },
  {
   "cell_type": "code",
   "execution_count": 205,
   "id": "06f1edba",
   "metadata": {},
   "outputs": [
    {
     "data": {
      "text/html": [
       "<div>\n",
       "<style scoped>\n",
       "    .dataframe tbody tr th:only-of-type {\n",
       "        vertical-align: middle;\n",
       "    }\n",
       "\n",
       "    .dataframe tbody tr th {\n",
       "        vertical-align: top;\n",
       "    }\n",
       "\n",
       "    .dataframe thead th {\n",
       "        text-align: right;\n",
       "    }\n",
       "</style>\n",
       "<table border=\"1\" class=\"dataframe\">\n",
       "  <thead>\n",
       "    <tr style=\"text-align: right;\">\n",
       "      <th></th>\n",
       "      <th>petal_length</th>\n",
       "      <th>petal_width</th>\n",
       "    </tr>\n",
       "  </thead>\n",
       "  <tbody>\n",
       "    <tr>\n",
       "      <th>1</th>\n",
       "      <td>0.0</td>\n",
       "      <td>0.0</td>\n",
       "    </tr>\n",
       "    <tr>\n",
       "      <th>4</th>\n",
       "      <td>0.0</td>\n",
       "      <td>0.0</td>\n",
       "    </tr>\n",
       "    <tr>\n",
       "      <th>5</th>\n",
       "      <td>0.0</td>\n",
       "      <td>0.0</td>\n",
       "    </tr>\n",
       "  </tbody>\n",
       "</table>\n",
       "</div>"
      ],
      "text/plain": [
       "   petal_length  petal_width\n",
       "1           0.0          0.0\n",
       "4           0.0          0.0\n",
       "5           0.0          0.0"
      ]
     },
     "execution_count": 205,
     "metadata": {},
     "output_type": "execute_result"
    }
   ],
   "source": [
    "## Select both rows and columns\n",
    "df.iloc[1:5, 2:4]\n",
    "## Select discrete rows and columns\n",
    "df.iloc[[1,4,5],[2,3]]"
   ]
  },
  {
   "cell_type": "code",
   "execution_count": 207,
   "id": "766149d4",
   "metadata": {},
   "outputs": [],
   "source": [
    "############################# selection by callable\n",
    "## Specify rows\n",
    "df.loc[lambda df: df['sepal_length'] > 5, :] ## It's the same as df.loc[df['sepal_length'] > 5, :]\n",
    "## Specify columns\n",
    "\n",
    "df.loc[:, lambda df: ['A', 'B']]\n",
    "## Directly use []\n",
    "df[lambda df: df.columns[0]]\n",
    "\n",
    "## Indexing in series\n",
    "df['sepal_length'].loc[lambda s: s > 0].head()\n"
   ]
  },
  {
   "cell_type": "markdown",
   "id": "9a8c0f84",
   "metadata": {},
   "source": [
    "### value_counts"
   ]
  },
  {
   "cell_type": "code",
   "execution_count": 41,
   "id": "6df91e05",
   "metadata": {},
   "outputs": [
    {
     "data": {
      "text/plain": [
       "(setosa        0.333333\n",
       " versicolor    0.333333\n",
       " virginica     0.333333\n",
       " Name: species, dtype: float64,\n",
       " setosa        50\n",
       " versicolor    50\n",
       " virginica     50\n",
       " Name: species, dtype: int64)"
      ]
     },
     "execution_count": 41,
     "metadata": {},
     "output_type": "execute_result"
    }
   ],
   "source": [
    "df['species'].value_counts(normalize=True),df['species'].value_counts()"
   ]
  },
  {
   "cell_type": "markdown",
   "id": "66092725",
   "metadata": {},
   "source": [
    "### Drop"
   ]
  },
  {
   "cell_type": "code",
   "execution_count": 9,
   "id": "791e8608",
   "metadata": {},
   "outputs": [
    {
     "data": {
      "text/html": [
       "<div>\n",
       "<style scoped>\n",
       "    .dataframe tbody tr th:only-of-type {\n",
       "        vertical-align: middle;\n",
       "    }\n",
       "\n",
       "    .dataframe tbody tr th {\n",
       "        vertical-align: top;\n",
       "    }\n",
       "\n",
       "    .dataframe thead th {\n",
       "        text-align: right;\n",
       "    }\n",
       "</style>\n",
       "<table border=\"1\" class=\"dataframe\">\n",
       "  <thead>\n",
       "    <tr style=\"text-align: right;\">\n",
       "      <th></th>\n",
       "      <th>sepal_width</th>\n",
       "      <th>petal_length</th>\n",
       "      <th>petal_width</th>\n",
       "      <th>species</th>\n",
       "    </tr>\n",
       "  </thead>\n",
       "  <tbody>\n",
       "    <tr>\n",
       "      <th>0</th>\n",
       "      <td>3.5</td>\n",
       "      <td>1.4</td>\n",
       "      <td>0.2</td>\n",
       "      <td>setosa</td>\n",
       "    </tr>\n",
       "    <tr>\n",
       "      <th>1</th>\n",
       "      <td>3.0</td>\n",
       "      <td>1.4</td>\n",
       "      <td>0.2</td>\n",
       "      <td>setosa</td>\n",
       "    </tr>\n",
       "  </tbody>\n",
       "</table>\n",
       "</div>"
      ],
      "text/plain": [
       "   sepal_width  petal_length  petal_width species\n",
       "0          3.5           1.4          0.2  setosa\n",
       "1          3.0           1.4          0.2  setosa"
      ]
     },
     "execution_count": 9,
     "metadata": {},
     "output_type": "execute_result"
    }
   ],
   "source": [
    "df.drop(['sepal_length'], axis=1).head(2)"
   ]
  },
  {
   "cell_type": "markdown",
   "id": "7c008d10",
   "metadata": {},
   "source": [
    "### Groupby\n"
   ]
  },
  {
   "cell_type": "code",
   "execution_count": 11,
   "id": "27e1a099",
   "metadata": {},
   "outputs": [
    {
     "data": {
      "text/html": [
       "<div>\n",
       "<style scoped>\n",
       "    .dataframe tbody tr th:only-of-type {\n",
       "        vertical-align: middle;\n",
       "    }\n",
       "\n",
       "    .dataframe tbody tr th {\n",
       "        vertical-align: top;\n",
       "    }\n",
       "\n",
       "    .dataframe thead th {\n",
       "        text-align: right;\n",
       "    }\n",
       "</style>\n",
       "<table border=\"1\" class=\"dataframe\">\n",
       "  <thead>\n",
       "    <tr style=\"text-align: right;\">\n",
       "      <th></th>\n",
       "      <th>sepal_length</th>\n",
       "      <th>sepal_width</th>\n",
       "      <th>petal_length</th>\n",
       "      <th>petal_width</th>\n",
       "      <th>species</th>\n",
       "    </tr>\n",
       "  </thead>\n",
       "  <tbody>\n",
       "    <tr>\n",
       "      <th>0</th>\n",
       "      <td>5.1</td>\n",
       "      <td>3.5</td>\n",
       "      <td>1.4</td>\n",
       "      <td>0.2</td>\n",
       "      <td>setosa</td>\n",
       "    </tr>\n",
       "    <tr>\n",
       "      <th>1</th>\n",
       "      <td>4.9</td>\n",
       "      <td>3.0</td>\n",
       "      <td>1.4</td>\n",
       "      <td>0.2</td>\n",
       "      <td>setosa</td>\n",
       "    </tr>\n",
       "    <tr>\n",
       "      <th>2</th>\n",
       "      <td>4.7</td>\n",
       "      <td>3.2</td>\n",
       "      <td>1.3</td>\n",
       "      <td>0.2</td>\n",
       "      <td>setosa</td>\n",
       "    </tr>\n",
       "  </tbody>\n",
       "</table>\n",
       "</div>"
      ],
      "text/plain": [
       "   sepal_length  sepal_width  petal_length  petal_width species\n",
       "0           5.1          3.5           1.4          0.2  setosa\n",
       "1           4.9          3.0           1.4          0.2  setosa\n",
       "2           4.7          3.2           1.3          0.2  setosa"
      ]
     },
     "execution_count": 11,
     "metadata": {},
     "output_type": "execute_result"
    }
   ],
   "source": [
    "what_is_group = df.groupby(['species'])\n",
    "what_is_group.get_group('setosa').head(3)"
   ]
  },
  {
   "cell_type": "code",
   "execution_count": 12,
   "id": "e95804e9",
   "metadata": {},
   "outputs": [
    {
     "data": {
      "text/html": [
       "<div>\n",
       "<style scoped>\n",
       "    .dataframe tbody tr th:only-of-type {\n",
       "        vertical-align: middle;\n",
       "    }\n",
       "\n",
       "    .dataframe tbody tr th {\n",
       "        vertical-align: top;\n",
       "    }\n",
       "\n",
       "    .dataframe thead th {\n",
       "        text-align: right;\n",
       "    }\n",
       "</style>\n",
       "<table border=\"1\" class=\"dataframe\">\n",
       "  <thead>\n",
       "    <tr style=\"text-align: right;\">\n",
       "      <th></th>\n",
       "      <th>species</th>\n",
       "      <th>sepal_length</th>\n",
       "      <th>sepal_width</th>\n",
       "      <th>petal_length</th>\n",
       "      <th>petal_width</th>\n",
       "    </tr>\n",
       "  </thead>\n",
       "  <tbody>\n",
       "    <tr>\n",
       "      <th>0</th>\n",
       "      <td>setosa</td>\n",
       "      <td>5.006</td>\n",
       "      <td>3.428</td>\n",
       "      <td>1.462</td>\n",
       "      <td>0.246</td>\n",
       "    </tr>\n",
       "    <tr>\n",
       "      <th>1</th>\n",
       "      <td>versicolor</td>\n",
       "      <td>5.936</td>\n",
       "      <td>2.770</td>\n",
       "      <td>4.260</td>\n",
       "      <td>1.326</td>\n",
       "    </tr>\n",
       "    <tr>\n",
       "      <th>2</th>\n",
       "      <td>virginica</td>\n",
       "      <td>6.588</td>\n",
       "      <td>2.974</td>\n",
       "      <td>5.552</td>\n",
       "      <td>2.026</td>\n",
       "    </tr>\n",
       "  </tbody>\n",
       "</table>\n",
       "</div>"
      ],
      "text/plain": [
       "      species  sepal_length  sepal_width  petal_length  petal_width\n",
       "0      setosa         5.006        3.428         1.462        0.246\n",
       "1  versicolor         5.936        2.770         4.260        1.326\n",
       "2   virginica         6.588        2.974         5.552        2.026"
      ]
     },
     "execution_count": 12,
     "metadata": {},
     "output_type": "execute_result"
    }
   ],
   "source": [
    "df.groupby(['species'],as_index=False).mean()"
   ]
  },
  {
   "cell_type": "code",
   "execution_count": 38,
   "id": "1fd1c91d",
   "metadata": {},
   "outputs": [
    {
     "data": {
      "text/html": [
       "<div>\n",
       "<style scoped>\n",
       "    .dataframe tbody tr th:only-of-type {\n",
       "        vertical-align: middle;\n",
       "    }\n",
       "\n",
       "    .dataframe tbody tr th {\n",
       "        vertical-align: top;\n",
       "    }\n",
       "\n",
       "    .dataframe thead th {\n",
       "        text-align: right;\n",
       "    }\n",
       "</style>\n",
       "<table border=\"1\" class=\"dataframe\">\n",
       "  <thead>\n",
       "    <tr style=\"text-align: right;\">\n",
       "      <th></th>\n",
       "      <th>petal_width</th>\n",
       "      <th>sepal_width</th>\n",
       "    </tr>\n",
       "    <tr>\n",
       "      <th>species</th>\n",
       "      <th></th>\n",
       "      <th></th>\n",
       "    </tr>\n",
       "  </thead>\n",
       "  <tbody>\n",
       "    <tr>\n",
       "      <th>setosa</th>\n",
       "      <td>0.246</td>\n",
       "      <td>3.428</td>\n",
       "    </tr>\n",
       "    <tr>\n",
       "      <th>versicolor</th>\n",
       "      <td>1.326</td>\n",
       "      <td>2.770</td>\n",
       "    </tr>\n",
       "    <tr>\n",
       "      <th>virginica</th>\n",
       "      <td>2.026</td>\n",
       "      <td>2.974</td>\n",
       "    </tr>\n",
       "  </tbody>\n",
       "</table>\n",
       "</div>"
      ],
      "text/plain": [
       "            petal_width  sepal_width\n",
       "species                             \n",
       "setosa            0.246        3.428\n",
       "versicolor        1.326        2.770\n",
       "virginica         2.026        2.974"
      ]
     },
     "execution_count": 38,
     "metadata": {},
     "output_type": "execute_result"
    }
   ],
   "source": [
    "what_is_group[['petal_width', 'sepal_width']].mean()"
   ]
  },
  {
   "cell_type": "markdown",
   "id": "4a5afbba",
   "metadata": {},
   "source": [
    "### Filter"
   ]
  },
  {
   "cell_type": "code",
   "execution_count": 14,
   "id": "eb07e6d2",
   "metadata": {},
   "outputs": [
    {
     "data": {
      "text/plain": [
       "0    True\n",
       "1    True\n",
       "Name: species, dtype: bool"
      ]
     },
     "execution_count": 14,
     "metadata": {},
     "output_type": "execute_result"
    }
   ],
   "source": [
    "filt = df['species'] == 'setosa'\n",
    "filt.head(2)"
   ]
  },
  {
   "cell_type": "markdown",
   "id": "35d49409",
   "metadata": {},
   "source": [
    "### Aggregate"
   ]
  },
  {
   "cell_type": "code",
   "execution_count": null,
   "id": "390cbce0",
   "metadata": {},
   "outputs": [],
   "source": [
    "#### basic function\n",
    "##   dataframe.aggregate(func=None, axis=0, *args, **kwargs)"
   ]
  },
  {
   "cell_type": "code",
   "execution_count": 211,
   "id": "6a18fde1",
   "metadata": {},
   "outputs": [
    {
     "name": "stdout",
     "output_type": "stream",
     "text": [
      "first one \n",
      "      sepal_length  sepal_width  petal_length  petal_width  new_columns\n",
      "sum         846.8        438.3         555.0        178.5        11160\n",
      "min           0.0          0.0           0.0          0.0            0\n",
      "second one \n",
      "      sepal_length  petal_length\n",
      "sum         846.8           NaN\n",
      "min           0.0           0.0\n",
      "max           NaN           6.9\n",
      "third one \n",
      "            sepal_length  petal_length\n",
      "summation         846.8           NaN\n",
      "mean                NaN           3.7\n",
      "fourth one \n",
      " 0    6\n",
      "1    6\n",
      "2    6\n",
      "3    6\n",
      "4    6\n",
      "dtype: int64\n"
     ]
    }
   ],
   "source": [
    "## apply the same aggregate function over rows to all the columns\n",
    "print('first one \\n', df.agg(['sum','min']))\n",
    "\n",
    "## apply different aggregation function per column\n",
    "print('second one \\n', df.agg({\"sepal_length\":['sum','min'], \"petal_length\":['min','max']}))\n",
    "\n",
    "## apply aggregation function and remane indexes of the results\n",
    "print('third one \\n', df.agg(summation = (\"sepal_length\",sum), mean = (\"petal_length\",np.mean)))\n",
    "\n",
    "## aggregate over columns\n",
    "print('fourth one \\n', df.agg(\"count\", axis = \"columns\").head())"
   ]
  },
  {
   "cell_type": "markdown",
   "id": "001e719c",
   "metadata": {},
   "source": [
    "### Apply"
   ]
  },
  {
   "cell_type": "code",
   "execution_count": null,
   "id": "48dcb465",
   "metadata": {},
   "outputs": [],
   "source": [
    "## use a universal function\n",
    "df[['sepal_length','sepal_width','petal_length','petal_width']].apply(np.sqrt).head()\n",
    "\n",
    "## specify axis\n",
    "df[['sepal_length','sepal_width','petal_length','petal_width']].apply(np.sum, axis=0).head()\n",
    "df[['sepal_length','sepal_width','petal_length','petal_width']].apply(np.sum, axis=1).head()\n",
    "\n",
    "## return list-like\n",
    "df[['sepal_length','sepal_width','petal_length','petal_width']].apply(lambda x: [np.min(x),np.max(x)], axis=1).head()\n",
    "\n",
    "\n",
    "# use result_type=\"expand\" to expand list-like reesults to columns of a data\n",
    "df[['sepal_length','sepal_width','petal_length','petal_width']].apply(lambda x: [np.min(x),np.max(x)], axis=1, result_type=\"expand\").head()\n",
    "\n",
    "## similar to result_type='expand', directly pass a series\n",
    "df[['sepal_length','sepal_width','petal_length','petal_width']].apply(lambda x: pd.Series([np.min(x),np.max(x)], index=['minimum','maximum']), axis=1).head()\n",
    "\n",
    "#### use result_type = \"broadcast\" to return the same shape\n",
    "##   df[['sepal_length','sepal_width','petal_length','petal_width']].apply(lambda x: [np.min(x),np.max(x)], axis=1, result_type=\"broadcast\").head()\n"
   ]
  },
  {
   "cell_type": "markdown",
   "id": "7805d516",
   "metadata": {},
   "source": [
    "### Assign\n",
    "1. assign can take more than one columns to create another column"
   ]
  },
  {
   "cell_type": "markdown",
   "id": "3273d351",
   "metadata": {},
   "source": [
    "### Rolling\n",
    "1. basic function\n",
    "    DataFrame.rolling(window, min_periods=None, center=False, win_type=None, \n",
    "    on=None, axis=0, closed=None, method='single')"
   ]
  },
  {
   "cell_type": "code",
   "execution_count": 220,
   "id": "d5ac877c",
   "metadata": {},
   "outputs": [
    {
     "name": "stdout",
     "output_type": "stream",
     "text": [
      "first one\n",
      "    sepal_length  sepal_width  petal_length  petal_width\n",
      "0           NaN          NaN           NaN          NaN\n",
      "1           5.0         3.25           1.4          0.2\n",
      "second one \n",
      "    sepal_length  sepal_width  petal_length  petal_width\n",
      "0           NaN          NaN           NaN          NaN\n",
      "1      9.862071     6.410346      2.761380     0.394483\n",
      "2      9.467588     6.114484      2.662759     0.394483\n",
      "third one \n",
      "    sepal_length  sepal_width  petal_length  petal_width\n",
      "0           NaN          NaN           NaN          NaN\n",
      "1          10.0          6.5           2.8          0.4\n",
      "2           9.6          6.2           2.7          0.4\n",
      "fourth one    sepal_length  sepal_width  petal_length  petal_width\n",
      "0           5.1          3.5           1.4          0.2\n",
      "1          10.0          6.5           2.8          0.4\n",
      "2           9.6          6.2           2.7          0.4\n"
     ]
    }
   ],
   "source": [
    "## rolling sum with a window length of 2, using \"triang\" window type\n",
    "print(\"first one\\n\", df.rolling(2, win_type = \"triang\").sum().head(2))\n",
    "\n",
    "## rolling sum with a window length of 2, using \"gaussian\" window type\n",
    "print(\"second one \\n\", df.rolling(2, win_type = \"gaussian\").sum(std=3).head(3))\n",
    "\n",
    "## rolling sum with a window length of 2\n",
    "print(\"third one \\n\", df.rolling(2).sum().head(3))\n",
    "## rolling with a window length of2, set min_periods\n",
    "print('fourth one', df.rolling(2, min_periods=1).sum().head(3))"
   ]
  },
  {
   "cell_type": "code",
   "execution_count": null,
   "id": "f14339a6",
   "metadata": {},
   "outputs": [],
   "source": [
    "## with forward-looking windows\n",
    "\n",
    "indexer = pd.api.indexers.FixedForwardWindowIndexer(window_size=2)\n",
    "\n",
    "df.rolling(window=indexer, min_periods=1).sum().head()"
   ]
  },
  {
   "cell_type": "code",
   "execution_count": null,
   "id": "887d0845",
   "metadata": {},
   "outputs": [],
   "source": [
    "## If it's time series, we can roll by time interval\n",
    "## Define a time series dataframe = ts\n",
    "ts.rolling(\"2s\").sum()"
   ]
  },
  {
   "cell_type": "markdown",
   "id": "84ba184a",
   "metadata": {},
   "source": [
    "# Sklearn Basic"
   ]
  },
  {
   "cell_type": "code",
   "execution_count": 171,
   "id": "5fe8e5f3",
   "metadata": {},
   "outputs": [
    {
     "data": {
      "text/html": [
       "<div>\n",
       "<style scoped>\n",
       "    .dataframe tbody tr th:only-of-type {\n",
       "        vertical-align: middle;\n",
       "    }\n",
       "\n",
       "    .dataframe tbody tr th {\n",
       "        vertical-align: top;\n",
       "    }\n",
       "\n",
       "    .dataframe thead th {\n",
       "        text-align: right;\n",
       "    }\n",
       "</style>\n",
       "<table border=\"1\" class=\"dataframe\">\n",
       "  <thead>\n",
       "    <tr style=\"text-align: right;\">\n",
       "      <th></th>\n",
       "      <th>sepal_length</th>\n",
       "      <th>sepal_width</th>\n",
       "      <th>petal_length</th>\n",
       "      <th>petal_width</th>\n",
       "      <th>species</th>\n",
       "    </tr>\n",
       "  </thead>\n",
       "  <tbody>\n",
       "    <tr>\n",
       "      <th>0</th>\n",
       "      <td>5.1</td>\n",
       "      <td>3.5</td>\n",
       "      <td>1.4</td>\n",
       "      <td>0.2</td>\n",
       "      <td>setosa</td>\n",
       "    </tr>\n",
       "    <tr>\n",
       "      <th>1</th>\n",
       "      <td>4.9</td>\n",
       "      <td>3.0</td>\n",
       "      <td>1.4</td>\n",
       "      <td>0.2</td>\n",
       "      <td>setosa</td>\n",
       "    </tr>\n",
       "    <tr>\n",
       "      <th>2</th>\n",
       "      <td>4.7</td>\n",
       "      <td>3.2</td>\n",
       "      <td>1.3</td>\n",
       "      <td>0.2</td>\n",
       "      <td>setosa</td>\n",
       "    </tr>\n",
       "  </tbody>\n",
       "</table>\n",
       "</div>"
      ],
      "text/plain": [
       "   sepal_length  sepal_width  petal_length  petal_width species\n",
       "0           5.1          3.5           1.4          0.2  setosa\n",
       "1           4.9          3.0           1.4          0.2  setosa\n",
       "2           4.7          3.2           1.3          0.2  setosa"
      ]
     },
     "execution_count": 171,
     "metadata": {},
     "output_type": "execute_result"
    }
   ],
   "source": [
    "import seaborn as sns\n",
    "import pandas as pd\n",
    "iris = sns.load_dataset('iris')\n",
    "df=iris\n",
    "df.head(3)"
   ]
  },
  {
   "cell_type": "markdown",
   "id": "144851ba",
   "metadata": {},
   "source": [
    "### features selection 特征筛选"
   ]
  },
  {
   "cell_type": "code",
   "execution_count": 182,
   "id": "4515d4dc",
   "metadata": {},
   "outputs": [
    {
     "data": {
      "text/plain": [
       "(150, 2)"
      ]
     },
     "execution_count": 182,
     "metadata": {},
     "output_type": "execute_result"
    }
   ],
   "source": [
    "from sklearn.feature_selection import VarianceThreshold\n",
    "VarianceThreshold(threshold=0.1).fit_transform(df.loc[ : ,['sepal_length','sepal_width']]).shape"
   ]
  },
  {
   "cell_type": "markdown",
   "id": "eb03f77b",
   "metadata": {},
   "source": [
    "### Stratified K-fold in Model Selection\n",
    "1. 利用 sklearn.model_selection 里的 StratifiedKFold,它的作用是根据Y的分布来进行筛选，使得每个fold里的分布尽可能一致。不知道对于连续型的怎么处理？"
   ]
  },
  {
   "cell_type": "code",
   "execution_count": 197,
   "id": "a846dfe2",
   "metadata": {},
   "outputs": [
    {
     "name": "stdout",
     "output_type": "stream",
     "text": [
      "(100,) (50,) virginica     34\n",
      "setosa        33\n",
      "versicolor    33\n",
      "Name: species, dtype: int64\n",
      "(100,) (50,) versicolor    34\n",
      "setosa        33\n",
      "virginica     33\n",
      "Name: species, dtype: int64\n",
      "(100,) (50,) setosa        34\n",
      "versicolor    33\n",
      "virginica     33\n",
      "Name: species, dtype: int64\n"
     ]
    }
   ],
   "source": [
    "from sklearn.model_selection import StratifiedKFold\n",
    "import numpy as np\n",
    "features = df.columns.values[:-1]\n",
    "target = df.columns.values[-1]\n",
    "X = df.loc[:,features]\n",
    "Y = df.loc[:, target]\n",
    "# print(X.shape, Y.shape, Y[:5])\n",
    "StratifiedKFold()\n",
    "skf = StratifiedKFold(n_splits=3)\n",
    "for train_index, test_index in skf.split(X, Y):\n",
    "    print(train_index.shape, test_index.shape, pd.Series(Y[train_index]).value_counts())"
   ]
  },
  {
   "cell_type": "markdown",
   "id": "4df6e289",
   "metadata": {},
   "source": [
    "### Metrics\n",
    "1. sklearn.metrics"
   ]
  },
  {
   "cell_type": "markdown",
   "id": "9e7728e7",
   "metadata": {},
   "source": [
    "### Labels Encoding"
   ]
  },
  {
   "cell_type": "markdown",
   "id": "4fce3eac",
   "metadata": {},
   "source": [
    "#### LabelEncoder\n",
    "1.used to turn categorical data (e.g. strings) into integer labels"
   ]
  },
  {
   "cell_type": "code",
   "execution_count": 73,
   "id": "5d1af334",
   "metadata": {},
   "outputs": [
    {
     "data": {
      "text/html": [
       "<div>\n",
       "<style scoped>\n",
       "    .dataframe tbody tr th:only-of-type {\n",
       "        vertical-align: middle;\n",
       "    }\n",
       "\n",
       "    .dataframe tbody tr th {\n",
       "        vertical-align: top;\n",
       "    }\n",
       "\n",
       "    .dataframe thead th {\n",
       "        text-align: right;\n",
       "    }\n",
       "</style>\n",
       "<table border=\"1\" class=\"dataframe\">\n",
       "  <thead>\n",
       "    <tr style=\"text-align: right;\">\n",
       "      <th></th>\n",
       "      <th>sepal_length</th>\n",
       "      <th>sepal_width</th>\n",
       "      <th>petal_length</th>\n",
       "      <th>petal_width</th>\n",
       "      <th>species</th>\n",
       "      <th>species_encoded</th>\n",
       "    </tr>\n",
       "  </thead>\n",
       "  <tbody>\n",
       "    <tr>\n",
       "      <th>148</th>\n",
       "      <td>6.2</td>\n",
       "      <td>3.4</td>\n",
       "      <td>5.4</td>\n",
       "      <td>2.3</td>\n",
       "      <td>virginica</td>\n",
       "      <td>2</td>\n",
       "    </tr>\n",
       "    <tr>\n",
       "      <th>149</th>\n",
       "      <td>5.9</td>\n",
       "      <td>3.0</td>\n",
       "      <td>5.1</td>\n",
       "      <td>1.8</td>\n",
       "      <td>virginica</td>\n",
       "      <td>2</td>\n",
       "    </tr>\n",
       "  </tbody>\n",
       "</table>\n",
       "</div>"
      ],
      "text/plain": [
       "     sepal_length  sepal_width  petal_length  petal_width    species  \\\n",
       "148           6.2          3.4           5.4          2.3  virginica   \n",
       "149           5.9          3.0           5.1          1.8  virginica   \n",
       "\n",
       "     species_encoded  \n",
       "148                2  \n",
       "149                2  "
      ]
     },
     "execution_count": 73,
     "metadata": {},
     "output_type": "execute_result"
    }
   ],
   "source": [
    "from sklearn.preprocessing import LabelEncoder\n",
    "le = LabelEncoder()\n",
    "df['species_encoded'] = le.fit_transform(df['species'])\n",
    "df.tail(2)"
   ]
  },
  {
   "cell_type": "markdown",
   "id": "35412d30",
   "metadata": {},
   "source": [
    "#### factorize"
   ]
  },
  {
   "cell_type": "code",
   "execution_count": 75,
   "id": "6f264e73",
   "metadata": {},
   "outputs": [
    {
     "data": {
      "text/html": [
       "<div>\n",
       "<style scoped>\n",
       "    .dataframe tbody tr th:only-of-type {\n",
       "        vertical-align: middle;\n",
       "    }\n",
       "\n",
       "    .dataframe tbody tr th {\n",
       "        vertical-align: top;\n",
       "    }\n",
       "\n",
       "    .dataframe thead th {\n",
       "        text-align: right;\n",
       "    }\n",
       "</style>\n",
       "<table border=\"1\" class=\"dataframe\">\n",
       "  <thead>\n",
       "    <tr style=\"text-align: right;\">\n",
       "      <th></th>\n",
       "      <th>sepal_length</th>\n",
       "      <th>sepal_width</th>\n",
       "      <th>petal_length</th>\n",
       "      <th>petal_width</th>\n",
       "      <th>species</th>\n",
       "      <th>species_encoded</th>\n",
       "      <th>species_factorize</th>\n",
       "    </tr>\n",
       "  </thead>\n",
       "  <tbody>\n",
       "    <tr>\n",
       "      <th>148</th>\n",
       "      <td>6.2</td>\n",
       "      <td>3.4</td>\n",
       "      <td>5.4</td>\n",
       "      <td>2.3</td>\n",
       "      <td>virginica</td>\n",
       "      <td>2</td>\n",
       "      <td>2</td>\n",
       "    </tr>\n",
       "    <tr>\n",
       "      <th>149</th>\n",
       "      <td>5.9</td>\n",
       "      <td>3.0</td>\n",
       "      <td>5.1</td>\n",
       "      <td>1.8</td>\n",
       "      <td>virginica</td>\n",
       "      <td>2</td>\n",
       "      <td>2</td>\n",
       "    </tr>\n",
       "  </tbody>\n",
       "</table>\n",
       "</div>"
      ],
      "text/plain": [
       "     sepal_length  sepal_width  petal_length  petal_width    species  \\\n",
       "148           6.2          3.4           5.4          2.3  virginica   \n",
       "149           5.9          3.0           5.1          1.8  virginica   \n",
       "\n",
       "     species_encoded  species_factorize  \n",
       "148                2                  2  \n",
       "149                2                  2  "
      ]
     },
     "execution_count": 75,
     "metadata": {},
     "output_type": "execute_result"
    }
   ],
   "source": [
    "df['species_factorize'] = pd.factorize(df['species'])[0]\n",
    "df.tail(2)"
   ]
  },
  {
   "cell_type": "markdown",
   "id": "e0a06638",
   "metadata": {},
   "source": [
    "#### Orginal Encoding"
   ]
  },
  {
   "cell_type": "code",
   "execution_count": 80,
   "id": "bf102fcd",
   "metadata": {},
   "outputs": [
    {
     "data": {
      "text/plain": [
       "(setosa        50\n",
       " versicolor    50\n",
       " virginica     50\n",
       " Name: species, dtype: int64,\n",
       " 50)"
      ]
     },
     "execution_count": 80,
     "metadata": {},
     "output_type": "execute_result"
    }
   ],
   "source": [
    "df['species'].value_counts(), df['species'].value_counts()['setosa']"
   ]
  },
  {
   "cell_type": "code",
   "execution_count": 77,
   "id": "56b39650",
   "metadata": {},
   "outputs": [
    {
     "data": {
      "text/html": [
       "<div>\n",
       "<style scoped>\n",
       "    .dataframe tbody tr th:only-of-type {\n",
       "        vertical-align: middle;\n",
       "    }\n",
       "\n",
       "    .dataframe tbody tr th {\n",
       "        vertical-align: top;\n",
       "    }\n",
       "\n",
       "    .dataframe thead th {\n",
       "        text-align: right;\n",
       "    }\n",
       "</style>\n",
       "<table border=\"1\" class=\"dataframe\">\n",
       "  <thead>\n",
       "    <tr style=\"text-align: right;\">\n",
       "      <th></th>\n",
       "      <th>sepal_length</th>\n",
       "      <th>sepal_width</th>\n",
       "      <th>petal_length</th>\n",
       "      <th>petal_width</th>\n",
       "      <th>species</th>\n",
       "      <th>species_encoded</th>\n",
       "      <th>species_factorize</th>\n",
       "      <th>species_orginal</th>\n",
       "    </tr>\n",
       "  </thead>\n",
       "  <tbody>\n",
       "    <tr>\n",
       "      <th>0</th>\n",
       "      <td>5.1</td>\n",
       "      <td>3.5</td>\n",
       "      <td>1.4</td>\n",
       "      <td>0.2</td>\n",
       "      <td>setosa</td>\n",
       "      <td>0</td>\n",
       "      <td>0</td>\n",
       "      <td>1</td>\n",
       "    </tr>\n",
       "    <tr>\n",
       "      <th>1</th>\n",
       "      <td>4.9</td>\n",
       "      <td>3.0</td>\n",
       "      <td>1.4</td>\n",
       "      <td>0.2</td>\n",
       "      <td>setosa</td>\n",
       "      <td>0</td>\n",
       "      <td>0</td>\n",
       "      <td>1</td>\n",
       "    </tr>\n",
       "  </tbody>\n",
       "</table>\n",
       "</div>"
      ],
      "text/plain": [
       "   sepal_length  sepal_width  petal_length  petal_width species  \\\n",
       "0           5.1          3.5           1.4          0.2  setosa   \n",
       "1           4.9          3.0           1.4          0.2  setosa   \n",
       "\n",
       "   species_encoded  species_factorize  species_orginal  \n",
       "0                0                  0                1  \n",
       "1                0                  0                1  "
      ]
     },
     "execution_count": 77,
     "metadata": {},
     "output_type": "execute_result"
    }
   ],
   "source": [
    "df['species_orginal'] = df['species'].map({'setosa':1, 'versicolor':2, 'virginica':3})\n",
    "df.head(2)"
   ]
  },
  {
   "cell_type": "markdown",
   "id": "36742f19",
   "metadata": {},
   "source": [
    "## Importance of Features\n",
    "1. see also "
   ]
  },
  {
   "cell_type": "markdown",
   "id": "c1ed10e5",
   "metadata": {},
   "source": [
    "### Using RandomForest"
   ]
  },
  {
   "cell_type": "code",
   "execution_count": 83,
   "id": "9531e0d0",
   "metadata": {},
   "outputs": [
    {
     "name": "stdout",
     "output_type": "stream",
     "text": [
      "[0.04099187 0.00100734 0.00520612 0.00093336 0.02251287 0.4385096\n",
      " 0.01382259 0.06984376 0.0031563  0.01377838 0.01674152 0.01200674\n",
      " 0.36148956]\n"
     ]
    },
    {
     "data": {
      "image/png": "[encoded data removed]",
      "text/plain": [
       "<Figure size 576x216 with 1 Axes>"
      ]
     },
     "metadata": {
      "needs_background": "light"
     },
     "output_type": "display_data"
    }
   ],
   "source": [
    "import numpy as np\n",
    "from sklearn.ensemble import RandomForestRegressor\n",
    "from sklearn.datasets import load_boston\n",
    "from matplotlib import pyplot as plt\n",
    "data = load_boston()\n",
    "rf = RandomForestRegressor()\n",
    "rf.fit(data.data, data.target);\n",
    "print(rf.feature_importances_)\n",
    "\n",
    "plt.figure(figsize=(8, 3))\n",
    "plt.bar(range(1, 14), rf.feature_importances_)\n",
    "_ = plt.xticks(range(1, 14), data.feature_names)"
   ]
  },
  {
   "cell_type": "markdown",
   "id": "b3a3e1b8",
   "metadata": {},
   "source": [
    "### Using Linear Model (LinearSVR)"
   ]
  },
  {
   "cell_type": "code",
   "execution_count": 87,
   "id": "8bfe4011",
   "metadata": {},
   "outputs": [
    {
     "data": {
      "text/plain": [
       "(array([[6.3200e-03, 1.8000e+01, 2.3100e+00, 0.0000e+00, 5.3800e-01,\n",
       "         6.5750e+00, 6.5200e+01, 4.0900e+00, 1.0000e+00, 2.9600e+02,\n",
       "         1.5300e+01, 3.9690e+02, 4.9800e+00],\n",
       "        [2.7310e-02, 0.0000e+00, 7.0700e+00, 0.0000e+00, 4.6900e-01,\n",
       "         6.4210e+00, 7.8900e+01, 4.9671e+00, 2.0000e+00, 2.4200e+02,\n",
       "         1.7800e+01, 3.9690e+02, 9.1400e+00]]),\n",
       " array([24. , 21.6]))"
      ]
     },
     "execution_count": 87,
     "metadata": {},
     "output_type": "execute_result"
    }
   ],
   "source": [
    "data.data[:2], data.target[:2]"
   ]
  },
  {
   "cell_type": "code",
   "execution_count": 84,
   "id": "943c37d3",
   "metadata": {
    "scrolled": true
   },
   "outputs": [
    {
     "name": "stdout",
     "output_type": "stream",
     "text": [
      "['CRIM' 'ZN' 'INDUS' 'CHAS' 'NOX' 'RM' 'AGE' 'DIS' 'RAD' 'TAX' 'PTRATIO'\n",
      " 'B' 'LSTAT']\n",
      "[-0.07688381  0.05293609 -0.02517436  0.35235135  0.18644799  4.56633777\n",
      "  0.01111108 -0.75809134  0.22522111 -0.00699733 -0.228929    0.02761511\n",
      " -0.49620256]\n"
     ]
    },
    {
     "data": {
      "image/png": "[encoded data removed]",
      "text/plain": [
       "<Figure size 576x216 with 1 Axes>"
      ]
     },
     "metadata": {
      "needs_background": "light"
     },
     "output_type": "display_data"
    }
   ],
   "source": [
    "from sklearn.svm import LinearSVR\n",
    "from sklearn.feature_selection import SelectFromModel\n",
    "\n",
    "lsvc = LinearSVR().fit(data.data, data.target)\n",
    "print(data.feature_names)\n",
    "print(lsvc.coef_)\n",
    "plt.figure(figsize=(8, 3))\n",
    "plt.bar(range(data.data.shape[1]), np.abs(lsvc.coef_))\n",
    "_ = plt.xticks(range(data.data.shape[1]), data.feature_names)"
   ]
  },
  {
   "cell_type": "markdown",
   "id": "36470d80",
   "metadata": {},
   "source": [
    "### Use Correlation"
   ]
  },
  {
   "cell_type": "code",
   "execution_count": 95,
   "id": "54dfc60d",
   "metadata": {},
   "outputs": [
    {
     "name": "stdout",
     "output_type": "stream",
     "text": [
      "['CRIM' 'ZN' 'INDUS' 'CHAS' 'NOX' 'RM' 'AGE' 'DIS' 'RAD' 'TAX' 'PTRATIO'\n",
      " 'B' 'LSTAT']\n",
      "[ 89.48611476  75.2576423  153.95488314  15.97151242 112.59148028\n",
      " 471.84673988  83.47745922  33.57957033  85.91427767 141.76135658\n",
      " 175.10554288  63.05422911 601.61787111]\n"
     ]
    },
    {
     "data": {
      "image/png": "[encoded data removed]",
      "text/plain": [
       "<Figure size 576x216 with 1 Axes>"
      ]
     },
     "metadata": {
      "needs_background": "light"
     },
     "output_type": "display_data"
    }
   ],
   "source": [
    "from sklearn.datasets import load_iris\n",
    "from sklearn.feature_selection import SelectKBest\n",
    "from sklearn.feature_selection import chi2\n",
    "\n",
    "from sklearn.feature_selection import f_regression\n",
    "sel = SelectKBest(f_regression, k='all').fit(data.data, data.target)\n",
    "sel.fit_transform(data.data, data.target)\n",
    "print(data.feature_names)\n",
    "print(sel.scores_)\n",
    "plt.figure(figsize=(8, 3))\n",
    "plt.bar(range(data.data.shape[1]), sel.scores_)\n",
    "_ = plt.xticks(range(data.data.shape[1]), data.feature_names)\n",
    "# plt.show()"
   ]
  },
  {
   "cell_type": "markdown",
   "id": "4409c8b3",
   "metadata": {},
   "source": [
    "## Sklearn Modeling"
   ]
  },
  {
   "cell_type": "code",
   "execution_count": 163,
   "id": "4090112f",
   "metadata": {},
   "outputs": [
    {
     "data": {
      "text/html": [
       "<div>\n",
       "<style scoped>\n",
       "    .dataframe tbody tr th:only-of-type {\n",
       "        vertical-align: middle;\n",
       "    }\n",
       "\n",
       "    .dataframe tbody tr th {\n",
       "        vertical-align: top;\n",
       "    }\n",
       "\n",
       "    .dataframe thead th {\n",
       "        text-align: right;\n",
       "    }\n",
       "</style>\n",
       "<table border=\"1\" class=\"dataframe\">\n",
       "  <thead>\n",
       "    <tr style=\"text-align: right;\">\n",
       "      <th></th>\n",
       "      <th>satisfaction_level</th>\n",
       "      <th>last_evaluation</th>\n",
       "      <th>number_project</th>\n",
       "      <th>average_monthly_hours</th>\n",
       "      <th>time_spend_company</th>\n",
       "      <th>Work_accident</th>\n",
       "      <th>left</th>\n",
       "      <th>promotion_last_5years</th>\n",
       "      <th>department</th>\n",
       "      <th>salary</th>\n",
       "    </tr>\n",
       "  </thead>\n",
       "  <tbody>\n",
       "    <tr>\n",
       "      <th>0</th>\n",
       "      <td>0.38</td>\n",
       "      <td>0.53</td>\n",
       "      <td>2</td>\n",
       "      <td>157</td>\n",
       "      <td>3</td>\n",
       "      <td>0</td>\n",
       "      <td>1</td>\n",
       "      <td>0</td>\n",
       "      <td>sales</td>\n",
       "      <td>low</td>\n",
       "    </tr>\n",
       "    <tr>\n",
       "      <th>1</th>\n",
       "      <td>0.80</td>\n",
       "      <td>0.86</td>\n",
       "      <td>5</td>\n",
       "      <td>262</td>\n",
       "      <td>6</td>\n",
       "      <td>0</td>\n",
       "      <td>1</td>\n",
       "      <td>0</td>\n",
       "      <td>sales</td>\n",
       "      <td>medium</td>\n",
       "    </tr>\n",
       "  </tbody>\n",
       "</table>\n",
       "</div>"
      ],
      "text/plain": [
       "   satisfaction_level  last_evaluation  number_project  average_monthly_hours  \\\n",
       "0                0.38             0.53               2                    157   \n",
       "1                0.80             0.86               5                    262   \n",
       "\n",
       "   time_spend_company  Work_accident  left  promotion_last_5years department  \\\n",
       "0                   3              0     1                      0      sales   \n",
       "1                   6              0     1                      0      sales   \n",
       "\n",
       "   salary  \n",
       "0     low  \n",
       "1  medium  "
      ]
     },
     "execution_count": 163,
     "metadata": {},
     "output_type": "execute_result"
    }
   ],
   "source": [
    "df_hr.head(2)"
   ]
  },
  {
   "cell_type": "code",
   "execution_count": 168,
   "id": "ce839a89",
   "metadata": {},
   "outputs": [
    {
     "data": {
      "text/plain": [
       "low       7316\n",
       "medium    6446\n",
       "high      1237\n",
       "nme          1\n",
       "Name: salary, dtype: int64"
      ]
     },
     "execution_count": 168,
     "metadata": {},
     "output_type": "execute_result"
    }
   ],
   "source": [
    "df_hr['salary'].value_counts()"
   ]
  },
  {
   "cell_type": "code",
   "execution_count": null,
   "id": "823fa5ea",
   "metadata": {},
   "outputs": [],
   "source": [
    "from sklearn.model_selection import train_test_split\n",
    "f_v=features.values\n",
    "l_v=label.values\n",
    "X_tt,X_validation,Y_tt,Y_validation=train_test_split(f_v,l_v,test_size=0.2)\n",
    "X_train,X_test,Y_train,Y_test=train_test_split(X_tt,Y_tt,test_size=0.25)\n",
    "\n",
    "from sklearn.metrics import accuracy_score, recall_score, f1_score\n",
    "from sklearn.neighbors import NearestNeighbors,KNeighborsClassifier\n",
    "from sklearn.naive_bayes import GaussianNB,BernoulliNB\n",
    "from sklearn.tree import DecisionTreeClassifier,export_graphviz\n",
    "from sklearn.externals.six import StringIO\n",
    "from sklearn.svm import SVC\n",
    "from sklearn.ensemble import RandomForestClassifier\n",
    "from sklearn.ensemble import AdaBoostClassifier\n",
    "from sklearn.linear_model import LogisticRegression\n",
    "from sklearn.ensemble import GradientBoostingClassifier\n",
    "models=[]\n",
    "models.append((\"KNN\",KNeighborsClassifier(n_neighbors=3)))\n",
    "models.append((\"GaussianNB\",GaussianNB()))\n",
    "models.append((\"BernoulliNB\",BernoulliNB()))\n",
    "models.append((\"DecisionTreeGini\",DecisionTreeClassifier()))\n",
    "models.append((\"DecisionTreeEntropy\",DecisionTreeClassifier(criterion=\"entropy\")))\n",
    "models.append((\"SVM Classifier\",SVC(C=1000)))\n",
    "models.append((\"OriginalRandomForest\",RandomForestClassifier()))\n",
    "models.append((\"RandomForest\",RandomForestClassifier(n_estimators=11,max_features=None)))\n",
    "models.append((\"Adaboost\",AdaBoostClassifier(n_estimators=100)))\n",
    "models.append((\"LogisticRegression\",LogisticRegression(C=1000,tol=1e-10,solver=\"sag\",max_iter=10000)))\n",
    "models.append((\"GBDT\",GradientBoostingClassifier(max_depth=6,n_estimators=100)))\n",
    "for clf_name,clf in models:\n",
    "    clf.fit(X_train,Y_train)\n",
    "    xy_lst=[(X_train,Y_train),(X_validation,Y_validation),(X_test,Y_test)]\n",
    "    for i in range(len(xy_lst)):\n",
    "        X_part=xy_lst[i][0]\n",
    "        Y_part=xy_lst[i][1]\n",
    "        Y_pred=clf.predict(X_part)\n",
    "        print(i)\n",
    "        print(clf_name,\"-ACC:\",accuracy_score(Y_part,Y_pred))\n",
    "        print(clf_name,\"-REC:\",recall_score(Y_part,Y_pred))\n",
    "        print(clf_name,\"-F1:\",f1_score(Y_part,Y_pred))\n",
    "        # dot_data=StringIO()\n",
    "        # export_graphviz(clf,out_file=dot_data,\n",
    "        #                          feature_names=f_names,\n",
    "        #                          class_names=[\"NL\",\"L\"],\n",
    "        #                          filled=True,\n",
    "        #                          rounded=True,\n",
    "        #                          special_characters=True)\n",
    "        # graph=pydotplus.graph_from_dot_data(dot_data.getvalue())\n",
    "        # graph.write_pdf(\"dt_tree_2.pdf\")"
   ]
  },
  {
   "cell_type": "markdown",
   "id": "8684025d",
   "metadata": {},
   "source": [
    "# Scipy"
   ]
  },
  {
   "cell_type": "markdown",
   "id": "9f3ad7ab",
   "metadata": {},
   "source": [
    "## Normal Distribution"
   ]
  },
  {
   "cell_type": "code",
   "execution_count": 123,
   "id": "3f56a191",
   "metadata": {},
   "outputs": [],
   "source": [
    "import scipy\n",
    "normal = scipy.stats.norm(0,1)\n",
    "chi = scipy.stats.chi2"
   ]
  },
  {
   "cell_type": "code",
   "execution_count": 118,
   "id": "b3a8bc92",
   "metadata": {},
   "outputs": [
    {
     "data": {
      "text/plain": [
       "0.3989422804014327"
      ]
     },
     "execution_count": 118,
     "metadata": {},
     "output_type": "execute_result"
    }
   ],
   "source": [
    "normal.pdf(0.0)"
   ]
  },
  {
   "cell_type": "code",
   "execution_count": 119,
   "id": "051d6749",
   "metadata": {},
   "outputs": [
    {
     "data": {
      "text/plain": [
       "1.2815515655446004"
      ]
     },
     "execution_count": 119,
     "metadata": {},
     "output_type": "execute_result"
    }
   ],
   "source": [
    "normal.ppf(0.9)"
   ]
  },
  {
   "cell_type": "code",
   "execution_count": 120,
   "id": "7f04e9a8",
   "metadata": {},
   "outputs": [
    {
     "data": {
      "text/plain": [
       "0.9772498680518208"
      ]
     },
     "execution_count": 120,
     "metadata": {},
     "output_type": "execute_result"
    }
   ],
   "source": [
    "normal.cdf(2)"
   ]
  },
  {
   "cell_type": "code",
   "execution_count": 122,
   "id": "4b8356fe",
   "metadata": {},
   "outputs": [
    {
     "data": {
      "text/plain": [
       "0.989502255883895"
      ]
     },
     "execution_count": 122,
     "metadata": {},
     "output_type": "execute_result"
    }
   ],
   "source": [
    "normal.rvs(100).std()"
   ]
  },
  {
   "cell_type": "markdown",
   "id": "dd4d9c54",
   "metadata": {},
   "source": [
    "# Time Series 时间序列"
   ]
  },
  {
   "cell_type": "markdown",
   "id": "0cb5be08",
   "metadata": {},
   "source": [
    "### Build dataset using Window 数据集构建"
   ]
  },
  {
   "cell_type": "code",
   "execution_count": 90,
   "id": "f6ced009",
   "metadata": {},
   "outputs": [
    {
     "name": "stdout",
     "output_type": "stream",
     "text": [
      "before selection: Index(['Unnamed: 0', 'Num', 'x1', 'x2', 'x3', 'x4', 'x5', 'x6', 'x7', 'x8',\n",
      "       'x9', 'x10', 'x11', 'x12', 'x13', 'x14', 'x15', 'x16', 'x17', 'x18',\n",
      "       'x19', 'x20', 'x21', 'x22', 'x23', 'x24', 'x25', 'x26', 'x27', 'x28',\n",
      "       'x29', 'x30', 'x31', 'x32', 'x33', 'x34', 'x35', 'x36', 'x37', 'x38',\n",
      "       'x39', 'x40', 'x41', 'x42', 'x43', 'x44', 'x45', 'x46', 'Vol',\n",
      "       'tradeTime', 'MidPrice', 'date'],\n",
      "      dtype='object')\n"
     ]
    }
   ],
   "source": [
    "import pandas as pd\n",
    "import tensorflow as tf\n",
    "import numpy as np\n",
    "import warnings\n",
    "warnings.simplefilter('ignore')\n",
    "\n",
    "df_train = pd.read_csv('tianyan_train.csv')\n",
    "print('before selection:',df_train.columns)\n",
    "feature_columns = ['x'+str(i) for i in range(1,47)]\n",
    "df_train = df_train.loc[:,feature_columns]\n",
    "df_test = pd.read_csv('tianyan_test.csv')\n",
    "windows_length = 5\n",
    "dataset = tf.data.Dataset.from_tensor_slices(df_train)\n",
    "dataset = dataset.window(windows_length, shift=1, drop_remainder=True)\n",
    "dataset = dataset.flat_map(lambda window: window.batch(windows_length))\n",
    "dataset = dataset.map(lambda window: (window[:,:]))"
   ]
  },
  {
   "cell_type": "markdown",
   "id": "0e8ebe6e",
   "metadata": {},
   "source": [
    "#### tf.dataset to numpy array"
   ]
  },
  {
   "cell_type": "code",
   "execution_count": 18,
   "id": "b5130b9b",
   "metadata": {},
   "outputs": [
    {
     "data": {
      "text/plain": [
       "(23396, 5, 46)"
      ]
     },
     "execution_count": 18,
     "metadata": {},
     "output_type": "execute_result"
    }
   ],
   "source": [
    "train_dataset = np.stack(dataset.map(lambda window: (window[:,:])).as_numpy_iterator())\n",
    "train_dataset.shape"
   ]
  },
  {
   "cell_type": "markdown",
   "id": "723c5870",
   "metadata": {},
   "source": [
    "### Dealing With Time Stamp 时间戳"
   ]
  },
  {
   "cell_type": "code",
   "execution_count": 28,
   "id": "a883d6e2",
   "metadata": {},
   "outputs": [
    {
     "data": {
      "text/plain": [
       "0    20200601 93003\n",
       "1    20200601 93006\n",
       "2    20200601 93009\n",
       "Name: timestamp, dtype: object"
      ]
     },
     "execution_count": 28,
     "metadata": {},
     "output_type": "execute_result"
    }
   ],
   "source": [
    "df_test['timestamp'] = df_test['date'].astype(str) + \" \" + df_test['tradeTime'].astype(str)\n",
    "df_test['timestamp'].head(3)"
   ]
  },
  {
   "cell_type": "markdown",
   "id": "910864d7",
   "metadata": {},
   "source": [
    "#### Parse TimeStamp"
   ]
  },
  {
   "cell_type": "code",
   "execution_count": 38,
   "id": "c2d3baeb",
   "metadata": {},
   "outputs": [],
   "source": [
    "from datetime import datetime\n",
    "def parseTimestamp(time_string):\n",
    "    from datetime import datetime\n",
    "    return datetime. strptime(time_string, '%Y%m%d %H%M%S')"
   ]
  },
  {
   "cell_type": "code",
   "execution_count": 42,
   "id": "64c06ee1",
   "metadata": {},
   "outputs": [
    {
     "data": {
      "text/plain": [
       "datetime.datetime(2020, 6, 1, 9, 30, 3)"
      ]
     },
     "execution_count": 42,
     "metadata": {},
     "output_type": "execute_result"
    }
   ],
   "source": [
    "parseTimestamp(df_test['timestamp'][0])"
   ]
  },
  {
   "cell_type": "code",
   "execution_count": 43,
   "id": "d5556556",
   "metadata": {},
   "outputs": [],
   "source": [
    "df_test['timestamp'] = df_test['timestamp'].apply(parseTimestamp)"
   ]
  },
  {
   "cell_type": "code",
   "execution_count": 44,
   "id": "b7e6c928",
   "metadata": {},
   "outputs": [
    {
     "data": {
      "text/plain": [
       "0   2020-06-01 09:30:03\n",
       "1   2020-06-01 09:30:06\n",
       "2   2020-06-01 09:30:09\n",
       "Name: timestamp, dtype: datetime64[ns]"
      ]
     },
     "execution_count": 44,
     "metadata": {},
     "output_type": "execute_result"
    }
   ],
   "source": [
    "df_test['timestamp'].head(3)"
   ]
  },
  {
   "cell_type": "code",
   "execution_count": 47,
   "id": "f8a6e489",
   "metadata": {},
   "outputs": [],
   "source": [
    "df_test.set_index('timestamp', inplace=True)"
   ]
  },
  {
   "cell_type": "code",
   "execution_count": 51,
   "id": "2b87c499",
   "metadata": {},
   "outputs": [
    {
     "data": {
      "text/html": [
       "<div>\n",
       "<style scoped>\n",
       "    .dataframe tbody tr th:only-of-type {\n",
       "        vertical-align: middle;\n",
       "    }\n",
       "\n",
       "    .dataframe tbody tr th {\n",
       "        vertical-align: top;\n",
       "    }\n",
       "\n",
       "    .dataframe thead th {\n",
       "        text-align: right;\n",
       "    }\n",
       "</style>\n",
       "<table border=\"1\" class=\"dataframe\">\n",
       "  <thead>\n",
       "    <tr style=\"text-align: right;\">\n",
       "      <th></th>\n",
       "      <th>Unnamed: 0</th>\n",
       "      <th>Num</th>\n",
       "      <th>x1</th>\n",
       "      <th>x2</th>\n",
       "      <th>x3</th>\n",
       "      <th>x4</th>\n",
       "      <th>x5</th>\n",
       "      <th>x6</th>\n",
       "      <th>x7</th>\n",
       "      <th>x8</th>\n",
       "      <th>...</th>\n",
       "      <th>x41</th>\n",
       "      <th>x42</th>\n",
       "      <th>x43</th>\n",
       "      <th>x44</th>\n",
       "      <th>x45</th>\n",
       "      <th>x46</th>\n",
       "      <th>Vol</th>\n",
       "      <th>tradeTime</th>\n",
       "      <th>MidPrice</th>\n",
       "      <th>date</th>\n",
       "    </tr>\n",
       "    <tr>\n",
       "      <th>timestamp</th>\n",
       "      <th></th>\n",
       "      <th></th>\n",
       "      <th></th>\n",
       "      <th></th>\n",
       "      <th></th>\n",
       "      <th></th>\n",
       "      <th></th>\n",
       "      <th></th>\n",
       "      <th></th>\n",
       "      <th></th>\n",
       "      <th></th>\n",
       "      <th></th>\n",
       "      <th></th>\n",
       "      <th></th>\n",
       "      <th></th>\n",
       "      <th></th>\n",
       "      <th></th>\n",
       "      <th></th>\n",
       "      <th></th>\n",
       "      <th></th>\n",
       "      <th></th>\n",
       "    </tr>\n",
       "  </thead>\n",
       "  <tbody>\n",
       "    <tr>\n",
       "      <th>2020-06-01 09:30:03</th>\n",
       "      <td>1</td>\n",
       "      <td>2</td>\n",
       "      <td>-0.755578</td>\n",
       "      <td>-1</td>\n",
       "      <td>1.010572</td>\n",
       "      <td>0.378437</td>\n",
       "      <td>-1.221391</td>\n",
       "      <td>-0.831798</td>\n",
       "      <td>0.298105</td>\n",
       "      <td>0.297316</td>\n",
       "      <td>...</td>\n",
       "      <td>-1.104833</td>\n",
       "      <td>-0.730426</td>\n",
       "      <td>1.328756</td>\n",
       "      <td>0.730292</td>\n",
       "      <td>1.191762</td>\n",
       "      <td>0</td>\n",
       "      <td>0</td>\n",
       "      <td>93003</td>\n",
       "      <td>112.72</td>\n",
       "      <td>20200601</td>\n",
       "    </tr>\n",
       "  </tbody>\n",
       "</table>\n",
       "<p>1 rows × 52 columns</p>\n",
       "</div>"
      ],
      "text/plain": [
       "                     Unnamed: 0  Num        x1  x2        x3        x4  \\\n",
       "timestamp                                                                \n",
       "2020-06-01 09:30:03           1    2 -0.755578  -1  1.010572  0.378437   \n",
       "\n",
       "                           x5        x6        x7        x8  ...       x41  \\\n",
       "timestamp                                                    ...             \n",
       "2020-06-01 09:30:03 -1.221391 -0.831798  0.298105  0.297316  ... -1.104833   \n",
       "\n",
       "                          x42       x43       x44       x45  x46  Vol  \\\n",
       "timestamp                                                               \n",
       "2020-06-01 09:30:03 -0.730426  1.328756  0.730292  1.191762    0    0   \n",
       "\n",
       "                     tradeTime  MidPrice      date  \n",
       "timestamp                                           \n",
       "2020-06-01 09:30:03      93003    112.72  20200601  \n",
       "\n",
       "[1 rows x 52 columns]"
      ]
     },
     "execution_count": 51,
     "metadata": {},
     "output_type": "execute_result"
    }
   ],
   "source": [
    "#可以用时间进行截取了\n",
    "df_test.loc['2020-06-01':'2020-06-10'].head(1)"
   ]
  },
  {
   "cell_type": "markdown",
   "id": "ea6028c8",
   "metadata": {},
   "source": [
    "#### resample"
   ]
  },
  {
   "cell_type": "code",
   "execution_count": 57,
   "id": "0f4fa8e9",
   "metadata": {},
   "outputs": [
    {
     "data": {
      "text/html": [
       "<div>\n",
       "<style scoped>\n",
       "    .dataframe tbody tr th:only-of-type {\n",
       "        vertical-align: middle;\n",
       "    }\n",
       "\n",
       "    .dataframe tbody tr th {\n",
       "        vertical-align: top;\n",
       "    }\n",
       "\n",
       "    .dataframe thead th {\n",
       "        text-align: right;\n",
       "    }\n",
       "</style>\n",
       "<table border=\"1\" class=\"dataframe\">\n",
       "  <thead>\n",
       "    <tr style=\"text-align: right;\">\n",
       "      <th></th>\n",
       "      <th>Unnamed: 0</th>\n",
       "      <th>Num</th>\n",
       "      <th>x1</th>\n",
       "      <th>x2</th>\n",
       "      <th>x3</th>\n",
       "      <th>x4</th>\n",
       "      <th>x5</th>\n",
       "      <th>x6</th>\n",
       "      <th>x7</th>\n",
       "      <th>x8</th>\n",
       "      <th>...</th>\n",
       "      <th>x41</th>\n",
       "      <th>x42</th>\n",
       "      <th>x43</th>\n",
       "      <th>x44</th>\n",
       "      <th>x45</th>\n",
       "      <th>x46</th>\n",
       "      <th>Vol</th>\n",
       "      <th>tradeTime</th>\n",
       "      <th>MidPrice</th>\n",
       "      <th>date</th>\n",
       "    </tr>\n",
       "    <tr>\n",
       "      <th>timestamp</th>\n",
       "      <th></th>\n",
       "      <th></th>\n",
       "      <th></th>\n",
       "      <th></th>\n",
       "      <th></th>\n",
       "      <th></th>\n",
       "      <th></th>\n",
       "      <th></th>\n",
       "      <th></th>\n",
       "      <th></th>\n",
       "      <th></th>\n",
       "      <th></th>\n",
       "      <th></th>\n",
       "      <th></th>\n",
       "      <th></th>\n",
       "      <th></th>\n",
       "      <th></th>\n",
       "      <th></th>\n",
       "      <th></th>\n",
       "      <th></th>\n",
       "      <th></th>\n",
       "    </tr>\n",
       "  </thead>\n",
       "  <tbody>\n",
       "    <tr>\n",
       "      <th>2020-06-01 09:30:00</th>\n",
       "      <td>10.0</td>\n",
       "      <td>2.0</td>\n",
       "      <td>0.342302</td>\n",
       "      <td>0.368421</td>\n",
       "      <td>0.228258</td>\n",
       "      <td>0.069032</td>\n",
       "      <td>-0.144532</td>\n",
       "      <td>-0.043779</td>\n",
       "      <td>0.018273</td>\n",
       "      <td>0.067807</td>\n",
       "      <td>...</td>\n",
       "      <td>-0.021643</td>\n",
       "      <td>-0.691394</td>\n",
       "      <td>1.390857</td>\n",
       "      <td>0.934847</td>\n",
       "      <td>0.860820</td>\n",
       "      <td>0.052632</td>\n",
       "      <td>1.526316</td>\n",
       "      <td>93030.0</td>\n",
       "      <td>112.559211</td>\n",
       "      <td>20200601.0</td>\n",
       "    </tr>\n",
       "    <tr>\n",
       "      <th>2020-06-01 09:31:00</th>\n",
       "      <td>29.5</td>\n",
       "      <td>2.0</td>\n",
       "      <td>0.117935</td>\n",
       "      <td>0.100000</td>\n",
       "      <td>-0.078208</td>\n",
       "      <td>0.181388</td>\n",
       "      <td>-0.005388</td>\n",
       "      <td>-0.351178</td>\n",
       "      <td>0.141960</td>\n",
       "      <td>0.032673</td>\n",
       "      <td>...</td>\n",
       "      <td>0.143172</td>\n",
       "      <td>-0.683413</td>\n",
       "      <td>1.386662</td>\n",
       "      <td>0.967664</td>\n",
       "      <td>0.824754</td>\n",
       "      <td>0.000000</td>\n",
       "      <td>0.000000</td>\n",
       "      <td>93128.5</td>\n",
       "      <td>112.539750</td>\n",
       "      <td>20200601.0</td>\n",
       "    </tr>\n",
       "  </tbody>\n",
       "</table>\n",
       "<p>2 rows × 52 columns</p>\n",
       "</div>"
      ],
      "text/plain": [
       "                     Unnamed: 0  Num        x1        x2        x3        x4  \\\n",
       "timestamp                                                                      \n",
       "2020-06-01 09:30:00        10.0  2.0  0.342302  0.368421  0.228258  0.069032   \n",
       "2020-06-01 09:31:00        29.5  2.0  0.117935  0.100000 -0.078208  0.181388   \n",
       "\n",
       "                           x5        x6        x7        x8  ...       x41  \\\n",
       "timestamp                                                    ...             \n",
       "2020-06-01 09:30:00 -0.144532 -0.043779  0.018273  0.067807  ... -0.021643   \n",
       "2020-06-01 09:31:00 -0.005388 -0.351178  0.141960  0.032673  ...  0.143172   \n",
       "\n",
       "                          x42       x43       x44       x45       x46  \\\n",
       "timestamp                                                               \n",
       "2020-06-01 09:30:00 -0.691394  1.390857  0.934847  0.860820  0.052632   \n",
       "2020-06-01 09:31:00 -0.683413  1.386662  0.967664  0.824754  0.000000   \n",
       "\n",
       "                          Vol  tradeTime    MidPrice        date  \n",
       "timestamp                                                         \n",
       "2020-06-01 09:30:00  1.526316    93030.0  112.559211  20200601.0  \n",
       "2020-06-01 09:31:00  0.000000    93128.5  112.539750  20200601.0  \n",
       "\n",
       "[2 rows x 52 columns]"
      ]
     },
     "execution_count": 57,
     "metadata": {},
     "output_type": "execute_result"
    }
   ],
   "source": [
    "df_test.resample('T').mean().head(2)"
   ]
  },
  {
   "cell_type": "markdown",
   "id": "0d8e4cec",
   "metadata": {},
   "source": [
    "### Compute log_return (assign)"
   ]
  },
  {
   "cell_type": "code",
   "execution_count": 61,
   "id": "504a5c61",
   "metadata": {
    "scrolled": false
   },
   "outputs": [
    {
     "data": {
      "text/html": [
       "<div>\n",
       "<style scoped>\n",
       "    .dataframe tbody tr th:only-of-type {\n",
       "        vertical-align: middle;\n",
       "    }\n",
       "\n",
       "    .dataframe tbody tr th {\n",
       "        vertical-align: top;\n",
       "    }\n",
       "\n",
       "    .dataframe thead th {\n",
       "        text-align: right;\n",
       "    }\n",
       "</style>\n",
       "<table border=\"1\" class=\"dataframe\">\n",
       "  <thead>\n",
       "    <tr style=\"text-align: right;\">\n",
       "      <th></th>\n",
       "      <th>Unnamed: 0</th>\n",
       "      <th>Num</th>\n",
       "      <th>x1</th>\n",
       "      <th>x2</th>\n",
       "      <th>x3</th>\n",
       "      <th>x4</th>\n",
       "      <th>x5</th>\n",
       "      <th>x6</th>\n",
       "      <th>x7</th>\n",
       "      <th>x8</th>\n",
       "      <th>...</th>\n",
       "      <th>x42</th>\n",
       "      <th>x43</th>\n",
       "      <th>x44</th>\n",
       "      <th>x45</th>\n",
       "      <th>x46</th>\n",
       "      <th>Vol</th>\n",
       "      <th>tradeTime</th>\n",
       "      <th>MidPrice</th>\n",
       "      <th>date</th>\n",
       "      <th>logret</th>\n",
       "    </tr>\n",
       "    <tr>\n",
       "      <th>timestamp</th>\n",
       "      <th></th>\n",
       "      <th></th>\n",
       "      <th></th>\n",
       "      <th></th>\n",
       "      <th></th>\n",
       "      <th></th>\n",
       "      <th></th>\n",
       "      <th></th>\n",
       "      <th></th>\n",
       "      <th></th>\n",
       "      <th></th>\n",
       "      <th></th>\n",
       "      <th></th>\n",
       "      <th></th>\n",
       "      <th></th>\n",
       "      <th></th>\n",
       "      <th></th>\n",
       "      <th></th>\n",
       "      <th></th>\n",
       "      <th></th>\n",
       "      <th></th>\n",
       "    </tr>\n",
       "  </thead>\n",
       "  <tbody>\n",
       "    <tr>\n",
       "      <th>2020-06-01 09:30:03</th>\n",
       "      <td>1</td>\n",
       "      <td>2</td>\n",
       "      <td>-0.755578</td>\n",
       "      <td>-1</td>\n",
       "      <td>1.010572</td>\n",
       "      <td>0.378437</td>\n",
       "      <td>-1.221391</td>\n",
       "      <td>-0.831798</td>\n",
       "      <td>0.298105</td>\n",
       "      <td>0.297316</td>\n",
       "      <td>...</td>\n",
       "      <td>-0.730426</td>\n",
       "      <td>1.328756</td>\n",
       "      <td>0.730292</td>\n",
       "      <td>1.191762</td>\n",
       "      <td>0</td>\n",
       "      <td>0</td>\n",
       "      <td>93003</td>\n",
       "      <td>112.720</td>\n",
       "      <td>20200601</td>\n",
       "      <td>0.001598</td>\n",
       "    </tr>\n",
       "    <tr>\n",
       "      <th>2020-06-01 09:30:06</th>\n",
       "      <td>2</td>\n",
       "      <td>2</td>\n",
       "      <td>1.037052</td>\n",
       "      <td>1</td>\n",
       "      <td>0.715161</td>\n",
       "      <td>0.131032</td>\n",
       "      <td>-1.721667</td>\n",
       "      <td>0.000000</td>\n",
       "      <td>-0.280999</td>\n",
       "      <td>-0.369551</td>\n",
       "      <td>...</td>\n",
       "      <td>-0.724367</td>\n",
       "      <td>1.346770</td>\n",
       "      <td>0.797311</td>\n",
       "      <td>1.122751</td>\n",
       "      <td>0</td>\n",
       "      <td>0</td>\n",
       "      <td>93006</td>\n",
       "      <td>112.725</td>\n",
       "      <td>20200601</td>\n",
       "      <td>0.001643</td>\n",
       "    </tr>\n",
       "  </tbody>\n",
       "</table>\n",
       "<p>2 rows × 53 columns</p>\n",
       "</div>"
      ],
      "text/plain": [
       "                     Unnamed: 0  Num        x1  x2        x3        x4  \\\n",
       "timestamp                                                                \n",
       "2020-06-01 09:30:03           1    2 -0.755578  -1  1.010572  0.378437   \n",
       "2020-06-01 09:30:06           2    2  1.037052   1  0.715161  0.131032   \n",
       "\n",
       "                           x5        x6        x7        x8  ...       x42  \\\n",
       "timestamp                                                    ...             \n",
       "2020-06-01 09:30:03 -1.221391 -0.831798  0.298105  0.297316  ... -0.730426   \n",
       "2020-06-01 09:30:06 -1.721667  0.000000 -0.280999 -0.369551  ... -0.724367   \n",
       "\n",
       "                          x43       x44       x45  x46  Vol  tradeTime  \\\n",
       "timestamp                                                                \n",
       "2020-06-01 09:30:03  1.328756  0.730292  1.191762    0    0      93003   \n",
       "2020-06-01 09:30:06  1.346770  0.797311  1.122751    0    0      93006   \n",
       "\n",
       "                     MidPrice      date    logret  \n",
       "timestamp                                          \n",
       "2020-06-01 09:30:03   112.720  20200601  0.001598  \n",
       "2020-06-01 09:30:06   112.725  20200601  0.001643  \n",
       "\n",
       "[2 rows x 53 columns]"
      ]
     },
     "execution_count": 61,
     "metadata": {},
     "output_type": "execute_result"
    }
   ],
   "source": [
    "df_test_target = df_test.assign(logret=np.log(df_test.MidPrice).groupby(df_test.date).diff(-20))\n",
    "df_test_target.head(2)"
   ]
  },
  {
   "cell_type": "code",
   "execution_count": 67,
   "id": "ed7ae87f",
   "metadata": {},
   "outputs": [
    {
     "data": {
      "text/plain": [
       "timestamp\n",
       "2020-06-01 09:30:03    0.001598\n",
       "2020-06-01 09:30:06    0.001643\n",
       "2020-06-01 09:30:09    0.000000\n",
       "Name: MidPrice, dtype: float64"
      ]
     },
     "execution_count": 67,
     "metadata": {},
     "output_type": "execute_result"
    }
   ],
   "source": [
    "np.log(df_test.MidPrice).groupby(df_test.date).diff(-20).head(3)"
   ]
  },
  {
   "cell_type": "markdown",
   "id": "95395150",
   "metadata": {},
   "source": [
    "### Seasonality and Trend"
   ]
  },
  {
   "cell_type": "markdown",
   "id": "dfe7dfb8",
   "metadata": {},
   "source": [
    "### Some Models\n",
    "1. Arima\n",
    "2. Prophet\n",
    "3. Neural Prophet\n",
    "4. Vector Autoregression (VAR)"
   ]
  },
  {
   "cell_type": "code",
   "execution_count": null,
   "id": "16e1783e",
   "metadata": {},
   "outputs": [],
   "source": []
  }
 ],
 "metadata": {
  "kernelspec": {
   "display_name": "Python 3 (ipykernel)",
   "language": "python",
   "name": "python3"
  },
  "language_info": {
   "codemirror_mode": {
    "name": "ipython",
    "version": 3
   },
   "file_extension": ".py",
   "mimetype": "text/x-python",
   "name": "python",
   "nbconvert_exporter": "python",
   "pygments_lexer": "ipython3",
   "version": "3.8.8"
  },
  "toc": {
   "base_numbering": 1,
   "nav_menu": {},
   "number_sections": true,
   "sideBar": true,
   "skip_h1_title": false,
   "title_cell": "Table of Contents",
   "title_sidebar": "Contents",
   "toc_cell": false,
   "toc_position": {
    "height": "calc(100% - 180px)",
    "left": "10px",
    "top": "150px",
    "width": "288.216px"
   },
   "toc_section_display": true,
   "toc_window_display": true
  }
 },
 "nbformat": 4,
 "nbformat_minor": 5
}
